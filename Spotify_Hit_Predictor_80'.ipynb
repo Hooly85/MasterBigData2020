{
 "cells": [
  {
   "cell_type": "code",
   "execution_count": 1,
   "metadata": {},
   "outputs": [],
   "source": [
    "%matplotlib inline\n",
    "\n",
    "import numpy as np\n",
    "import pandas as pd\n",
    "import matplotlib.pyplot as plt"
   ]
  },
  {
   "cell_type": "code",
   "execution_count": 2,
   "metadata": {},
   "outputs": [],
   "source": [
    "df = pd.read_csv('./dataset-of-80s.csv')"
   ]
  },
  {
   "cell_type": "code",
   "execution_count": 3,
   "metadata": {},
   "outputs": [
    {
     "data": {
      "text/html": [
       "<div>\n",
       "<style scoped>\n",
       "    .dataframe tbody tr th:only-of-type {\n",
       "        vertical-align: middle;\n",
       "    }\n",
       "\n",
       "    .dataframe tbody tr th {\n",
       "        vertical-align: top;\n",
       "    }\n",
       "\n",
       "    .dataframe thead th {\n",
       "        text-align: right;\n",
       "    }\n",
       "</style>\n",
       "<table border=\"1\" class=\"dataframe\">\n",
       "  <thead>\n",
       "    <tr style=\"text-align: right;\">\n",
       "      <th></th>\n",
       "      <th>track</th>\n",
       "      <th>artist</th>\n",
       "      <th>uri</th>\n",
       "      <th>danceability</th>\n",
       "      <th>energy</th>\n",
       "      <th>key</th>\n",
       "      <th>loudness</th>\n",
       "      <th>mode</th>\n",
       "      <th>speechiness</th>\n",
       "      <th>acousticness</th>\n",
       "      <th>instrumentalness</th>\n",
       "      <th>liveness</th>\n",
       "      <th>valence</th>\n",
       "      <th>tempo</th>\n",
       "      <th>duration_ms</th>\n",
       "      <th>time_signature</th>\n",
       "      <th>chorus_hit</th>\n",
       "      <th>sections</th>\n",
       "      <th>target</th>\n",
       "    </tr>\n",
       "  </thead>\n",
       "  <tbody>\n",
       "    <tr>\n",
       "      <td>0</td>\n",
       "      <td>Walking Blues</td>\n",
       "      <td>Big Joe Williams</td>\n",
       "      <td>spotify:track:1ZjN5X8LmUB67pWPgimW3B</td>\n",
       "      <td>0.509</td>\n",
       "      <td>0.277</td>\n",
       "      <td>6</td>\n",
       "      <td>-14.323</td>\n",
       "      <td>1</td>\n",
       "      <td>0.0495</td>\n",
       "      <td>0.827</td>\n",
       "      <td>0.00206</td>\n",
       "      <td>0.0756</td>\n",
       "      <td>0.640</td>\n",
       "      <td>101.157</td>\n",
       "      <td>161893</td>\n",
       "      <td>4</td>\n",
       "      <td>68.46530</td>\n",
       "      <td>7</td>\n",
       "      <td>0</td>\n",
       "    </tr>\n",
       "    <tr>\n",
       "      <td>1</td>\n",
       "      <td>Suddenly Last Summer</td>\n",
       "      <td>The Motels</td>\n",
       "      <td>spotify:track:4fLIM0B1WwrLux9RdnMvze</td>\n",
       "      <td>0.716</td>\n",
       "      <td>0.753</td>\n",
       "      <td>2</td>\n",
       "      <td>-5.682</td>\n",
       "      <td>1</td>\n",
       "      <td>0.0286</td>\n",
       "      <td>0.162</td>\n",
       "      <td>0.03060</td>\n",
       "      <td>0.0831</td>\n",
       "      <td>0.561</td>\n",
       "      <td>120.141</td>\n",
       "      <td>222000</td>\n",
       "      <td>4</td>\n",
       "      <td>57.71583</td>\n",
       "      <td>11</td>\n",
       "      <td>1</td>\n",
       "    </tr>\n",
       "    <tr>\n",
       "      <td>2</td>\n",
       "      <td>Sanctuary</td>\n",
       "      <td>Béla Fleck</td>\n",
       "      <td>spotify:track:3DwlNfiCQSdj0GOxYkR9Rq</td>\n",
       "      <td>0.360</td>\n",
       "      <td>0.542</td>\n",
       "      <td>5</td>\n",
       "      <td>-13.885</td>\n",
       "      <td>1</td>\n",
       "      <td>0.0339</td>\n",
       "      <td>0.368</td>\n",
       "      <td>0.16500</td>\n",
       "      <td>0.1160</td>\n",
       "      <td>0.803</td>\n",
       "      <td>116.831</td>\n",
       "      <td>444907</td>\n",
       "      <td>4</td>\n",
       "      <td>30.34574</td>\n",
       "      <td>17</td>\n",
       "      <td>0</td>\n",
       "    </tr>\n",
       "    <tr>\n",
       "      <td>3</td>\n",
       "      <td>The Wild Rover</td>\n",
       "      <td>The Pogues</td>\n",
       "      <td>spotify:track:6JyYNPLalPgGa7XnclF5FO</td>\n",
       "      <td>0.656</td>\n",
       "      <td>0.512</td>\n",
       "      <td>7</td>\n",
       "      <td>-11.872</td>\n",
       "      <td>1</td>\n",
       "      <td>0.0290</td>\n",
       "      <td>0.585</td>\n",
       "      <td>0.00000</td>\n",
       "      <td>0.0720</td>\n",
       "      <td>0.880</td>\n",
       "      <td>97.500</td>\n",
       "      <td>157893</td>\n",
       "      <td>3</td>\n",
       "      <td>50.97022</td>\n",
       "      <td>7</td>\n",
       "      <td>0</td>\n",
       "    </tr>\n",
       "    <tr>\n",
       "      <td>4</td>\n",
       "      <td>In The Driver's Seat</td>\n",
       "      <td>John Schneider</td>\n",
       "      <td>spotify:track:6jJi8OXF5qaFdysB6sjWIT</td>\n",
       "      <td>0.642</td>\n",
       "      <td>0.889</td>\n",
       "      <td>2</td>\n",
       "      <td>-5.620</td>\n",
       "      <td>0</td>\n",
       "      <td>0.0494</td>\n",
       "      <td>0.375</td>\n",
       "      <td>0.00000</td>\n",
       "      <td>0.1800</td>\n",
       "      <td>0.764</td>\n",
       "      <td>163.351</td>\n",
       "      <td>162293</td>\n",
       "      <td>4</td>\n",
       "      <td>33.62053</td>\n",
       "      <td>7</td>\n",
       "      <td>1</td>\n",
       "    </tr>\n",
       "  </tbody>\n",
       "</table>\n",
       "</div>"
      ],
      "text/plain": [
       "                  track            artist  \\\n",
       "0         Walking Blues  Big Joe Williams   \n",
       "1  Suddenly Last Summer        The Motels   \n",
       "2             Sanctuary        Béla Fleck   \n",
       "3        The Wild Rover        The Pogues   \n",
       "4  In The Driver's Seat    John Schneider   \n",
       "\n",
       "                                    uri  danceability  energy  key  loudness  \\\n",
       "0  spotify:track:1ZjN5X8LmUB67pWPgimW3B         0.509   0.277    6   -14.323   \n",
       "1  spotify:track:4fLIM0B1WwrLux9RdnMvze         0.716   0.753    2    -5.682   \n",
       "2  spotify:track:3DwlNfiCQSdj0GOxYkR9Rq         0.360   0.542    5   -13.885   \n",
       "3  spotify:track:6JyYNPLalPgGa7XnclF5FO         0.656   0.512    7   -11.872   \n",
       "4  spotify:track:6jJi8OXF5qaFdysB6sjWIT         0.642   0.889    2    -5.620   \n",
       "\n",
       "   mode  speechiness  acousticness  instrumentalness  liveness  valence  \\\n",
       "0     1       0.0495         0.827           0.00206    0.0756    0.640   \n",
       "1     1       0.0286         0.162           0.03060    0.0831    0.561   \n",
       "2     1       0.0339         0.368           0.16500    0.1160    0.803   \n",
       "3     1       0.0290         0.585           0.00000    0.0720    0.880   \n",
       "4     0       0.0494         0.375           0.00000    0.1800    0.764   \n",
       "\n",
       "     tempo  duration_ms  time_signature  chorus_hit  sections  target  \n",
       "0  101.157       161893               4    68.46530         7       0  \n",
       "1  120.141       222000               4    57.71583        11       1  \n",
       "2  116.831       444907               4    30.34574        17       0  \n",
       "3   97.500       157893               3    50.97022         7       0  \n",
       "4  163.351       162293               4    33.62053         7       1  "
      ]
     },
     "execution_count": 3,
     "metadata": {},
     "output_type": "execute_result"
    }
   ],
   "source": [
    "df.head()"
   ]
  },
  {
   "cell_type": "code",
   "execution_count": 4,
   "metadata": {},
   "outputs": [
    {
     "data": {
      "text/plain": [
       "6908"
      ]
     },
     "execution_count": 4,
     "metadata": {},
     "output_type": "execute_result"
    }
   ],
   "source": [
    "len(df)"
   ]
  },
  {
   "cell_type": "code",
   "execution_count": 5,
   "metadata": {},
   "outputs": [
    {
     "data": {
      "text/plain": [
       "Index(['track', 'artist', 'uri', 'danceability', 'energy', 'key', 'loudness',\n",
       "       'mode', 'speechiness', 'acousticness', 'instrumentalness', 'liveness',\n",
       "       'valence', 'tempo', 'duration_ms', 'time_signature', 'chorus_hit',\n",
       "       'sections', 'target'],\n",
       "      dtype='object')"
      ]
     },
     "execution_count": 5,
     "metadata": {},
     "output_type": "execute_result"
    }
   ],
   "source": [
    "df.columns"
   ]
  },
  {
   "cell_type": "code",
   "execution_count": 6,
   "metadata": {},
   "outputs": [
    {
     "data": {
      "text/plain": [
       "array([['Walking Blues', 'Big Joe Williams',\n",
       "        'spotify:track:1ZjN5X8LmUB67pWPgimW3B', ..., 68.4653, 7, 0],\n",
       "       ['Suddenly Last Summer', 'The Motels',\n",
       "        'spotify:track:4fLIM0B1WwrLux9RdnMvze', ..., 57.715830000000004,\n",
       "        11, 1],\n",
       "       ['Sanctuary', 'Béla Fleck',\n",
       "        'spotify:track:3DwlNfiCQSdj0GOxYkR9Rq', ..., 30.345740000000003,\n",
       "        17, 0],\n",
       "       ...,\n",
       "       ['Joy', 'Teddy Pendergrass',\n",
       "        'spotify:track:2Qv5EUATFNebcFGq3rN8O6', ..., 31.3173, 13, 1],\n",
       "       ['I Wanna Be A Cowboy', \"Boys Don't Cry\",\n",
       "        'spotify:track:38mEFmht9K7UcpHvS9vtJG', ..., 27.715709999999998,\n",
       "        18, 1],\n",
       "       ['Hot In The City', 'Billy Idol',\n",
       "        'spotify:track:5LeDMHIZ5YDZ2b1VOcYVcG', ..., 51.40399, 9, 1]],\n",
       "      dtype=object)"
      ]
     },
     "execution_count": 6,
     "metadata": {},
     "output_type": "execute_result"
    }
   ],
   "source": [
    "df.values"
   ]
  },
  {
   "cell_type": "code",
   "execution_count": 7,
   "metadata": {},
   "outputs": [
    {
     "data": {
      "text/plain": [
       "<bound method DataFrame.info of                                                   track             artist  \\\n",
       "0                                         Walking Blues   Big Joe Williams   \n",
       "1                                  Suddenly Last Summer         The Motels   \n",
       "2                                             Sanctuary         Béla Fleck   \n",
       "3                                        The Wild Rover         The Pogues   \n",
       "4                                  In The Driver's Seat     John Schneider   \n",
       "...                                                 ...                ...   \n",
       "6903  Bachke Rehna Re Baba - Pukar / Soundtrack Version      Kishore Kumar   \n",
       "6904                                  Tiempos Metálicos                 V8   \n",
       "6905                                                Joy  Teddy Pendergrass   \n",
       "6906                                I Wanna Be A Cowboy     Boys Don't Cry   \n",
       "6907                                    Hot In The City         Billy Idol   \n",
       "\n",
       "                                       uri  danceability  energy  key  \\\n",
       "0     spotify:track:1ZjN5X8LmUB67pWPgimW3B         0.509   0.277    6   \n",
       "1     spotify:track:4fLIM0B1WwrLux9RdnMvze         0.716   0.753    2   \n",
       "2     spotify:track:3DwlNfiCQSdj0GOxYkR9Rq         0.360   0.542    5   \n",
       "3     spotify:track:6JyYNPLalPgGa7XnclF5FO         0.656   0.512    7   \n",
       "4     spotify:track:6jJi8OXF5qaFdysB6sjWIT         0.642   0.889    2   \n",
       "...                                    ...           ...     ...  ...   \n",
       "6903  spotify:track:2wK3g7TTQa9AJMKcuYKbon         0.443   0.589    7   \n",
       "6904  spotify:track:3QaUanfuOovKQ5yNgGOSsz         0.208   0.750    9   \n",
       "6905  spotify:track:2Qv5EUATFNebcFGq3rN8O6         0.739   0.729    4   \n",
       "6906  spotify:track:38mEFmht9K7UcpHvS9vtJG         0.749   0.626    0   \n",
       "6907  spotify:track:5LeDMHIZ5YDZ2b1VOcYVcG         0.660   0.897    5   \n",
       "\n",
       "      loudness  mode  speechiness  acousticness  instrumentalness  liveness  \\\n",
       "0      -14.323     1       0.0495      0.827000          0.002060    0.0756   \n",
       "1       -5.682     1       0.0286      0.162000          0.030600    0.0831   \n",
       "2      -13.885     1       0.0339      0.368000          0.165000    0.1160   \n",
       "3      -11.872     1       0.0290      0.585000          0.000000    0.0720   \n",
       "4       -5.620     0       0.0494      0.375000          0.000000    0.1800   \n",
       "...        ...   ...          ...           ...               ...       ...   \n",
       "6903    -8.085     1       0.0392      0.552000          0.000000    0.1410   \n",
       "6904   -12.945     1       0.1080      0.000134          0.000002    0.0621   \n",
       "6905    -9.694     0       0.0572      0.249000          0.007680    0.0690   \n",
       "6906   -12.426     1       0.0393      0.011500          0.567000    0.0558   \n",
       "6907    -5.558     1       0.0257      0.003160          0.000023    0.1160   \n",
       "\n",
       "      valence    tempo  duration_ms  time_signature  chorus_hit  sections  \\\n",
       "0       0.640  101.157       161893               4    68.46530         7   \n",
       "1       0.561  120.141       222000               4    57.71583        11   \n",
       "2       0.803  116.831       444907               4    30.34574        17   \n",
       "3       0.880   97.500       157893               3    50.97022         7   \n",
       "4       0.764  163.351       162293               4    33.62053         7   \n",
       "...       ...      ...          ...             ...         ...       ...   \n",
       "6903    0.963   97.401       384360               4    31.61135        23   \n",
       "6904    0.394   83.467       154827               4    23.71780         8   \n",
       "6905    0.884  103.339       375652               4    31.31730        13   \n",
       "6906    0.770  142.565       366133               4    27.71571        18   \n",
       "6907    0.670  111.193       219133               4    51.40399         9   \n",
       "\n",
       "      target  \n",
       "0          0  \n",
       "1          1  \n",
       "2          0  \n",
       "3          0  \n",
       "4          1  \n",
       "...      ...  \n",
       "6903       0  \n",
       "6904       0  \n",
       "6905       1  \n",
       "6906       1  \n",
       "6907       1  \n",
       "\n",
       "[6908 rows x 19 columns]>"
      ]
     },
     "execution_count": 7,
     "metadata": {},
     "output_type": "execute_result"
    }
   ],
   "source": [
    "df.info"
   ]
  },
  {
   "cell_type": "code",
   "execution_count": 8,
   "metadata": {},
   "outputs": [
    {
     "data": {
      "text/html": [
       "<div>\n",
       "<style scoped>\n",
       "    .dataframe tbody tr th:only-of-type {\n",
       "        vertical-align: middle;\n",
       "    }\n",
       "\n",
       "    .dataframe tbody tr th {\n",
       "        vertical-align: top;\n",
       "    }\n",
       "\n",
       "    .dataframe thead th {\n",
       "        text-align: right;\n",
       "    }\n",
       "</style>\n",
       "<table border=\"1\" class=\"dataframe\">\n",
       "  <thead>\n",
       "    <tr style=\"text-align: right;\">\n",
       "      <th></th>\n",
       "      <th>danceability</th>\n",
       "      <th>energy</th>\n",
       "      <th>key</th>\n",
       "      <th>loudness</th>\n",
       "      <th>mode</th>\n",
       "      <th>speechiness</th>\n",
       "      <th>acousticness</th>\n",
       "      <th>instrumentalness</th>\n",
       "      <th>liveness</th>\n",
       "      <th>valence</th>\n",
       "      <th>tempo</th>\n",
       "      <th>duration_ms</th>\n",
       "      <th>time_signature</th>\n",
       "      <th>chorus_hit</th>\n",
       "      <th>sections</th>\n",
       "      <th>target</th>\n",
       "    </tr>\n",
       "  </thead>\n",
       "  <tbody>\n",
       "    <tr>\n",
       "      <td>count</td>\n",
       "      <td>6908.000000</td>\n",
       "      <td>6908.000000</td>\n",
       "      <td>6908.000000</td>\n",
       "      <td>6908.000000</td>\n",
       "      <td>6908.000000</td>\n",
       "      <td>6908.000000</td>\n",
       "      <td>6908.000000</td>\n",
       "      <td>6908.000000</td>\n",
       "      <td>6908.000000</td>\n",
       "      <td>6908.000000</td>\n",
       "      <td>6908.000000</td>\n",
       "      <td>6.908000e+03</td>\n",
       "      <td>6908.000000</td>\n",
       "      <td>6908.000000</td>\n",
       "      <td>6908.000000</td>\n",
       "      <td>6908.000000</td>\n",
       "    </tr>\n",
       "    <tr>\n",
       "      <td>mean</td>\n",
       "      <td>0.564258</td>\n",
       "      <td>0.608037</td>\n",
       "      <td>5.233353</td>\n",
       "      <td>-11.041894</td>\n",
       "      <td>0.687609</td>\n",
       "      <td>0.057906</td>\n",
       "      <td>0.293067</td>\n",
       "      <td>0.139863</td>\n",
       "      <td>0.201009</td>\n",
       "      <td>0.587922</td>\n",
       "      <td>120.649572</td>\n",
       "      <td>2.547564e+05</td>\n",
       "      <td>3.926317</td>\n",
       "      <td>39.755172</td>\n",
       "      <td>11.277649</td>\n",
       "      <td>0.500000</td>\n",
       "    </tr>\n",
       "    <tr>\n",
       "      <td>std</td>\n",
       "      <td>0.173084</td>\n",
       "      <td>0.242962</td>\n",
       "      <td>3.597246</td>\n",
       "      <td>4.681166</td>\n",
       "      <td>0.463502</td>\n",
       "      <td>0.057768</td>\n",
       "      <td>0.302950</td>\n",
       "      <td>0.288144</td>\n",
       "      <td>0.181664</td>\n",
       "      <td>0.263604</td>\n",
       "      <td>27.108127</td>\n",
       "      <td>1.073213e+05</td>\n",
       "      <td>0.356433</td>\n",
       "      <td>19.136360</td>\n",
       "      <td>4.472095</td>\n",
       "      <td>0.500036</td>\n",
       "    </tr>\n",
       "    <tr>\n",
       "      <td>min</td>\n",
       "      <td>0.065600</td>\n",
       "      <td>0.000276</td>\n",
       "      <td>0.000000</td>\n",
       "      <td>-39.940000</td>\n",
       "      <td>0.000000</td>\n",
       "      <td>0.022300</td>\n",
       "      <td>0.000001</td>\n",
       "      <td>0.000000</td>\n",
       "      <td>0.018600</td>\n",
       "      <td>0.000010</td>\n",
       "      <td>39.002000</td>\n",
       "      <td>2.951400e+04</td>\n",
       "      <td>1.000000</td>\n",
       "      <td>0.000000</td>\n",
       "      <td>1.000000</td>\n",
       "      <td>0.000000</td>\n",
       "    </tr>\n",
       "    <tr>\n",
       "      <td>25%</td>\n",
       "      <td>0.455000</td>\n",
       "      <td>0.436000</td>\n",
       "      <td>2.000000</td>\n",
       "      <td>-13.451000</td>\n",
       "      <td>0.000000</td>\n",
       "      <td>0.032700</td>\n",
       "      <td>0.033375</td>\n",
       "      <td>0.000003</td>\n",
       "      <td>0.084900</td>\n",
       "      <td>0.383000</td>\n",
       "      <td>102.608500</td>\n",
       "      <td>2.045468e+05</td>\n",
       "      <td>4.000000</td>\n",
       "      <td>27.441758</td>\n",
       "      <td>9.000000</td>\n",
       "      <td>0.000000</td>\n",
       "    </tr>\n",
       "    <tr>\n",
       "      <td>50%</td>\n",
       "      <td>0.582000</td>\n",
       "      <td>0.637000</td>\n",
       "      <td>5.000000</td>\n",
       "      <td>-10.662000</td>\n",
       "      <td>1.000000</td>\n",
       "      <td>0.040600</td>\n",
       "      <td>0.172000</td>\n",
       "      <td>0.000321</td>\n",
       "      <td>0.131000</td>\n",
       "      <td>0.622000</td>\n",
       "      <td>119.546000</td>\n",
       "      <td>2.418600e+05</td>\n",
       "      <td>4.000000</td>\n",
       "      <td>35.581815</td>\n",
       "      <td>11.000000</td>\n",
       "      <td>0.500000</td>\n",
       "    </tr>\n",
       "    <tr>\n",
       "      <td>75%</td>\n",
       "      <td>0.690000</td>\n",
       "      <td>0.809000</td>\n",
       "      <td>9.000000</td>\n",
       "      <td>-7.640250</td>\n",
       "      <td>1.000000</td>\n",
       "      <td>0.058000</td>\n",
       "      <td>0.499000</td>\n",
       "      <td>0.045250</td>\n",
       "      <td>0.266000</td>\n",
       "      <td>0.811000</td>\n",
       "      <td>135.175250</td>\n",
       "      <td>2.870168e+05</td>\n",
       "      <td>4.000000</td>\n",
       "      <td>47.318412</td>\n",
       "      <td>13.000000</td>\n",
       "      <td>1.000000</td>\n",
       "    </tr>\n",
       "    <tr>\n",
       "      <td>max</td>\n",
       "      <td>0.988000</td>\n",
       "      <td>1.000000</td>\n",
       "      <td>11.000000</td>\n",
       "      <td>-0.683000</td>\n",
       "      <td>1.000000</td>\n",
       "      <td>0.903000</td>\n",
       "      <td>0.996000</td>\n",
       "      <td>1.000000</td>\n",
       "      <td>0.997000</td>\n",
       "      <td>0.990000</td>\n",
       "      <td>217.396000</td>\n",
       "      <td>2.223827e+06</td>\n",
       "      <td>5.000000</td>\n",
       "      <td>433.182000</td>\n",
       "      <td>73.000000</td>\n",
       "      <td>1.000000</td>\n",
       "    </tr>\n",
       "  </tbody>\n",
       "</table>\n",
       "</div>"
      ],
      "text/plain": [
       "       danceability       energy          key     loudness         mode  \\\n",
       "count   6908.000000  6908.000000  6908.000000  6908.000000  6908.000000   \n",
       "mean       0.564258     0.608037     5.233353   -11.041894     0.687609   \n",
       "std        0.173084     0.242962     3.597246     4.681166     0.463502   \n",
       "min        0.065600     0.000276     0.000000   -39.940000     0.000000   \n",
       "25%        0.455000     0.436000     2.000000   -13.451000     0.000000   \n",
       "50%        0.582000     0.637000     5.000000   -10.662000     1.000000   \n",
       "75%        0.690000     0.809000     9.000000    -7.640250     1.000000   \n",
       "max        0.988000     1.000000    11.000000    -0.683000     1.000000   \n",
       "\n",
       "       speechiness  acousticness  instrumentalness     liveness      valence  \\\n",
       "count  6908.000000   6908.000000       6908.000000  6908.000000  6908.000000   \n",
       "mean      0.057906      0.293067          0.139863     0.201009     0.587922   \n",
       "std       0.057768      0.302950          0.288144     0.181664     0.263604   \n",
       "min       0.022300      0.000001          0.000000     0.018600     0.000010   \n",
       "25%       0.032700      0.033375          0.000003     0.084900     0.383000   \n",
       "50%       0.040600      0.172000          0.000321     0.131000     0.622000   \n",
       "75%       0.058000      0.499000          0.045250     0.266000     0.811000   \n",
       "max       0.903000      0.996000          1.000000     0.997000     0.990000   \n",
       "\n",
       "             tempo   duration_ms  time_signature   chorus_hit     sections  \\\n",
       "count  6908.000000  6.908000e+03     6908.000000  6908.000000  6908.000000   \n",
       "mean    120.649572  2.547564e+05        3.926317    39.755172    11.277649   \n",
       "std      27.108127  1.073213e+05        0.356433    19.136360     4.472095   \n",
       "min      39.002000  2.951400e+04        1.000000     0.000000     1.000000   \n",
       "25%     102.608500  2.045468e+05        4.000000    27.441758     9.000000   \n",
       "50%     119.546000  2.418600e+05        4.000000    35.581815    11.000000   \n",
       "75%     135.175250  2.870168e+05        4.000000    47.318412    13.000000   \n",
       "max     217.396000  2.223827e+06        5.000000   433.182000    73.000000   \n",
       "\n",
       "            target  \n",
       "count  6908.000000  \n",
       "mean      0.500000  \n",
       "std       0.500036  \n",
       "min       0.000000  \n",
       "25%       0.000000  \n",
       "50%       0.500000  \n",
       "75%       1.000000  \n",
       "max       1.000000  "
      ]
     },
     "execution_count": 8,
     "metadata": {},
     "output_type": "execute_result"
    }
   ],
   "source": [
    "df.describe()"
   ]
  },
  {
   "cell_type": "code",
   "execution_count": 9,
   "metadata": {},
   "outputs": [
    {
     "data": {
      "text/html": [
       "<div>\n",
       "<style scoped>\n",
       "    .dataframe tbody tr th:only-of-type {\n",
       "        vertical-align: middle;\n",
       "    }\n",
       "\n",
       "    .dataframe tbody tr th {\n",
       "        vertical-align: top;\n",
       "    }\n",
       "\n",
       "    .dataframe thead th {\n",
       "        text-align: right;\n",
       "    }\n",
       "</style>\n",
       "<table border=\"1\" class=\"dataframe\">\n",
       "  <thead>\n",
       "    <tr style=\"text-align: right;\">\n",
       "      <th></th>\n",
       "      <th>count</th>\n",
       "      <th>mean</th>\n",
       "      <th>std</th>\n",
       "      <th>min</th>\n",
       "      <th>25%</th>\n",
       "      <th>50%</th>\n",
       "      <th>75%</th>\n",
       "      <th>max</th>\n",
       "    </tr>\n",
       "  </thead>\n",
       "  <tbody>\n",
       "    <tr>\n",
       "      <td>danceability</td>\n",
       "      <td>6908.0</td>\n",
       "      <td>0.564258</td>\n",
       "      <td>0.173084</td>\n",
       "      <td>0.065600</td>\n",
       "      <td>0.455000</td>\n",
       "      <td>0.582000</td>\n",
       "      <td>0.690000</td>\n",
       "      <td>0.988</td>\n",
       "    </tr>\n",
       "    <tr>\n",
       "      <td>energy</td>\n",
       "      <td>6908.0</td>\n",
       "      <td>0.608037</td>\n",
       "      <td>0.242962</td>\n",
       "      <td>0.000276</td>\n",
       "      <td>0.436000</td>\n",
       "      <td>0.637000</td>\n",
       "      <td>0.809000</td>\n",
       "      <td>1.000</td>\n",
       "    </tr>\n",
       "    <tr>\n",
       "      <td>key</td>\n",
       "      <td>6908.0</td>\n",
       "      <td>5.233353</td>\n",
       "      <td>3.597246</td>\n",
       "      <td>0.000000</td>\n",
       "      <td>2.000000</td>\n",
       "      <td>5.000000</td>\n",
       "      <td>9.000000</td>\n",
       "      <td>11.000</td>\n",
       "    </tr>\n",
       "    <tr>\n",
       "      <td>loudness</td>\n",
       "      <td>6908.0</td>\n",
       "      <td>-11.041894</td>\n",
       "      <td>4.681166</td>\n",
       "      <td>-39.940000</td>\n",
       "      <td>-13.451000</td>\n",
       "      <td>-10.662000</td>\n",
       "      <td>-7.640250</td>\n",
       "      <td>-0.683</td>\n",
       "    </tr>\n",
       "    <tr>\n",
       "      <td>mode</td>\n",
       "      <td>6908.0</td>\n",
       "      <td>0.687609</td>\n",
       "      <td>0.463502</td>\n",
       "      <td>0.000000</td>\n",
       "      <td>0.000000</td>\n",
       "      <td>1.000000</td>\n",
       "      <td>1.000000</td>\n",
       "      <td>1.000</td>\n",
       "    </tr>\n",
       "    <tr>\n",
       "      <td>speechiness</td>\n",
       "      <td>6908.0</td>\n",
       "      <td>0.057906</td>\n",
       "      <td>0.057768</td>\n",
       "      <td>0.022300</td>\n",
       "      <td>0.032700</td>\n",
       "      <td>0.040600</td>\n",
       "      <td>0.058000</td>\n",
       "      <td>0.903</td>\n",
       "    </tr>\n",
       "    <tr>\n",
       "      <td>acousticness</td>\n",
       "      <td>6908.0</td>\n",
       "      <td>0.293067</td>\n",
       "      <td>0.302950</td>\n",
       "      <td>0.000001</td>\n",
       "      <td>0.033375</td>\n",
       "      <td>0.172000</td>\n",
       "      <td>0.499000</td>\n",
       "      <td>0.996</td>\n",
       "    </tr>\n",
       "    <tr>\n",
       "      <td>instrumentalness</td>\n",
       "      <td>6908.0</td>\n",
       "      <td>0.139863</td>\n",
       "      <td>0.288144</td>\n",
       "      <td>0.000000</td>\n",
       "      <td>0.000003</td>\n",
       "      <td>0.000321</td>\n",
       "      <td>0.045250</td>\n",
       "      <td>1.000</td>\n",
       "    </tr>\n",
       "    <tr>\n",
       "      <td>liveness</td>\n",
       "      <td>6908.0</td>\n",
       "      <td>0.201009</td>\n",
       "      <td>0.181664</td>\n",
       "      <td>0.018600</td>\n",
       "      <td>0.084900</td>\n",
       "      <td>0.131000</td>\n",
       "      <td>0.266000</td>\n",
       "      <td>0.997</td>\n",
       "    </tr>\n",
       "    <tr>\n",
       "      <td>valence</td>\n",
       "      <td>6908.0</td>\n",
       "      <td>0.587922</td>\n",
       "      <td>0.263604</td>\n",
       "      <td>0.000010</td>\n",
       "      <td>0.383000</td>\n",
       "      <td>0.622000</td>\n",
       "      <td>0.811000</td>\n",
       "      <td>0.990</td>\n",
       "    </tr>\n",
       "    <tr>\n",
       "      <td>tempo</td>\n",
       "      <td>6908.0</td>\n",
       "      <td>120.649572</td>\n",
       "      <td>27.108127</td>\n",
       "      <td>39.002000</td>\n",
       "      <td>102.608500</td>\n",
       "      <td>119.546000</td>\n",
       "      <td>135.175250</td>\n",
       "      <td>217.396</td>\n",
       "    </tr>\n",
       "    <tr>\n",
       "      <td>duration_ms</td>\n",
       "      <td>6908.0</td>\n",
       "      <td>254756.410394</td>\n",
       "      <td>107321.347928</td>\n",
       "      <td>29514.000000</td>\n",
       "      <td>204546.750000</td>\n",
       "      <td>241860.000000</td>\n",
       "      <td>287016.750000</td>\n",
       "      <td>2223827.000</td>\n",
       "    </tr>\n",
       "    <tr>\n",
       "      <td>time_signature</td>\n",
       "      <td>6908.0</td>\n",
       "      <td>3.926317</td>\n",
       "      <td>0.356433</td>\n",
       "      <td>1.000000</td>\n",
       "      <td>4.000000</td>\n",
       "      <td>4.000000</td>\n",
       "      <td>4.000000</td>\n",
       "      <td>5.000</td>\n",
       "    </tr>\n",
       "    <tr>\n",
       "      <td>chorus_hit</td>\n",
       "      <td>6908.0</td>\n",
       "      <td>39.755172</td>\n",
       "      <td>19.136360</td>\n",
       "      <td>0.000000</td>\n",
       "      <td>27.441758</td>\n",
       "      <td>35.581815</td>\n",
       "      <td>47.318412</td>\n",
       "      <td>433.182</td>\n",
       "    </tr>\n",
       "    <tr>\n",
       "      <td>sections</td>\n",
       "      <td>6908.0</td>\n",
       "      <td>11.277649</td>\n",
       "      <td>4.472095</td>\n",
       "      <td>1.000000</td>\n",
       "      <td>9.000000</td>\n",
       "      <td>11.000000</td>\n",
       "      <td>13.000000</td>\n",
       "      <td>73.000</td>\n",
       "    </tr>\n",
       "    <tr>\n",
       "      <td>target</td>\n",
       "      <td>6908.0</td>\n",
       "      <td>0.500000</td>\n",
       "      <td>0.500036</td>\n",
       "      <td>0.000000</td>\n",
       "      <td>0.000000</td>\n",
       "      <td>0.500000</td>\n",
       "      <td>1.000000</td>\n",
       "      <td>1.000</td>\n",
       "    </tr>\n",
       "  </tbody>\n",
       "</table>\n",
       "</div>"
      ],
      "text/plain": [
       "                   count           mean            std           min  \\\n",
       "danceability      6908.0       0.564258       0.173084      0.065600   \n",
       "energy            6908.0       0.608037       0.242962      0.000276   \n",
       "key               6908.0       5.233353       3.597246      0.000000   \n",
       "loudness          6908.0     -11.041894       4.681166    -39.940000   \n",
       "mode              6908.0       0.687609       0.463502      0.000000   \n",
       "speechiness       6908.0       0.057906       0.057768      0.022300   \n",
       "acousticness      6908.0       0.293067       0.302950      0.000001   \n",
       "instrumentalness  6908.0       0.139863       0.288144      0.000000   \n",
       "liveness          6908.0       0.201009       0.181664      0.018600   \n",
       "valence           6908.0       0.587922       0.263604      0.000010   \n",
       "tempo             6908.0     120.649572      27.108127     39.002000   \n",
       "duration_ms       6908.0  254756.410394  107321.347928  29514.000000   \n",
       "time_signature    6908.0       3.926317       0.356433      1.000000   \n",
       "chorus_hit        6908.0      39.755172      19.136360      0.000000   \n",
       "sections          6908.0      11.277649       4.472095      1.000000   \n",
       "target            6908.0       0.500000       0.500036      0.000000   \n",
       "\n",
       "                            25%            50%            75%          max  \n",
       "danceability           0.455000       0.582000       0.690000        0.988  \n",
       "energy                 0.436000       0.637000       0.809000        1.000  \n",
       "key                    2.000000       5.000000       9.000000       11.000  \n",
       "loudness             -13.451000     -10.662000      -7.640250       -0.683  \n",
       "mode                   0.000000       1.000000       1.000000        1.000  \n",
       "speechiness            0.032700       0.040600       0.058000        0.903  \n",
       "acousticness           0.033375       0.172000       0.499000        0.996  \n",
       "instrumentalness       0.000003       0.000321       0.045250        1.000  \n",
       "liveness               0.084900       0.131000       0.266000        0.997  \n",
       "valence                0.383000       0.622000       0.811000        0.990  \n",
       "tempo                102.608500     119.546000     135.175250      217.396  \n",
       "duration_ms       204546.750000  241860.000000  287016.750000  2223827.000  \n",
       "time_signature         4.000000       4.000000       4.000000        5.000  \n",
       "chorus_hit            27.441758      35.581815      47.318412      433.182  \n",
       "sections               9.000000      11.000000      13.000000       73.000  \n",
       "target                 0.000000       0.500000       1.000000        1.000  "
      ]
     },
     "execution_count": 9,
     "metadata": {},
     "output_type": "execute_result"
    }
   ],
   "source": [
    "df.describe().T"
   ]
  },
  {
   "cell_type": "code",
   "execution_count": 10,
   "metadata": {},
   "outputs": [
    {
     "data": {
      "text/plain": [
       "track                object\n",
       "artist               object\n",
       "uri                  object\n",
       "danceability        float64\n",
       "energy              float64\n",
       "key                   int64\n",
       "loudness            float64\n",
       "mode                  int64\n",
       "speechiness         float64\n",
       "acousticness        float64\n",
       "instrumentalness    float64\n",
       "liveness            float64\n",
       "valence             float64\n",
       "tempo               float64\n",
       "duration_ms           int64\n",
       "time_signature        int64\n",
       "chorus_hit          float64\n",
       "sections              int64\n",
       "target                int64\n",
       "dtype: object"
      ]
     },
     "execution_count": 10,
     "metadata": {},
     "output_type": "execute_result"
    }
   ],
   "source": [
    "df.dtypes"
   ]
  },
  {
   "cell_type": "code",
   "execution_count": 11,
   "metadata": {},
   "outputs": [
    {
     "data": {
      "text/plain": [
       "track               False\n",
       "artist              False\n",
       "uri                 False\n",
       "danceability        False\n",
       "energy              False\n",
       "key                 False\n",
       "loudness            False\n",
       "mode                False\n",
       "speechiness         False\n",
       "acousticness        False\n",
       "instrumentalness    False\n",
       "liveness            False\n",
       "valence             False\n",
       "tempo               False\n",
       "duration_ms         False\n",
       "time_signature      False\n",
       "chorus_hit          False\n",
       "sections            False\n",
       "target              False\n",
       "dtype: bool"
      ]
     },
     "execution_count": 11,
     "metadata": {},
     "output_type": "execute_result"
    }
   ],
   "source": [
    "df.isnull().any()"
   ]
  },
  {
   "cell_type": "code",
   "execution_count": 12,
   "metadata": {},
   "outputs": [
    {
     "data": {
      "text/html": [
       "<div>\n",
       "<style scoped>\n",
       "    .dataframe tbody tr th:only-of-type {\n",
       "        vertical-align: middle;\n",
       "    }\n",
       "\n",
       "    .dataframe tbody tr th {\n",
       "        vertical-align: top;\n",
       "    }\n",
       "\n",
       "    .dataframe thead th {\n",
       "        text-align: right;\n",
       "    }\n",
       "</style>\n",
       "<table border=\"1\" class=\"dataframe\">\n",
       "  <thead>\n",
       "    <tr style=\"text-align: right;\">\n",
       "      <th></th>\n",
       "      <th>danceability</th>\n",
       "      <th>energy</th>\n",
       "      <th>key</th>\n",
       "      <th>loudness</th>\n",
       "      <th>mode</th>\n",
       "      <th>speechiness</th>\n",
       "      <th>acousticness</th>\n",
       "      <th>instrumentalness</th>\n",
       "      <th>liveness</th>\n",
       "      <th>valence</th>\n",
       "      <th>tempo</th>\n",
       "      <th>duration_ms</th>\n",
       "      <th>time_signature</th>\n",
       "      <th>chorus_hit</th>\n",
       "      <th>sections</th>\n",
       "      <th>target</th>\n",
       "    </tr>\n",
       "  </thead>\n",
       "  <tbody>\n",
       "    <tr>\n",
       "      <td>danceability</td>\n",
       "      <td>1.000000</td>\n",
       "      <td>0.166161</td>\n",
       "      <td>0.031154</td>\n",
       "      <td>0.196825</td>\n",
       "      <td>-0.052277</td>\n",
       "      <td>0.056490</td>\n",
       "      <td>-0.241466</td>\n",
       "      <td>-0.307968</td>\n",
       "      <td>-0.162616</td>\n",
       "      <td>0.609570</td>\n",
       "      <td>-0.092411</td>\n",
       "      <td>0.023058</td>\n",
       "      <td>0.186349</td>\n",
       "      <td>-0.019991</td>\n",
       "      <td>0.021912</td>\n",
       "      <td>0.347748</td>\n",
       "    </tr>\n",
       "    <tr>\n",
       "      <td>energy</td>\n",
       "      <td>0.166161</td>\n",
       "      <td>1.000000</td>\n",
       "      <td>0.045065</td>\n",
       "      <td>0.746408</td>\n",
       "      <td>-0.028187</td>\n",
       "      <td>0.145268</td>\n",
       "      <td>-0.664995</td>\n",
       "      <td>-0.181078</td>\n",
       "      <td>0.188647</td>\n",
       "      <td>0.364493</td>\n",
       "      <td>0.208639</td>\n",
       "      <td>-0.022062</td>\n",
       "      <td>0.155974</td>\n",
       "      <td>0.013331</td>\n",
       "      <td>-0.056801</td>\n",
       "      <td>0.185201</td>\n",
       "    </tr>\n",
       "    <tr>\n",
       "      <td>key</td>\n",
       "      <td>0.031154</td>\n",
       "      <td>0.045065</td>\n",
       "      <td>1.000000</td>\n",
       "      <td>0.035454</td>\n",
       "      <td>-0.180651</td>\n",
       "      <td>-0.003992</td>\n",
       "      <td>-0.040471</td>\n",
       "      <td>-0.003150</td>\n",
       "      <td>-0.004815</td>\n",
       "      <td>0.028986</td>\n",
       "      <td>-0.004265</td>\n",
       "      <td>0.007175</td>\n",
       "      <td>0.009912</td>\n",
       "      <td>0.031360</td>\n",
       "      <td>-0.003272</td>\n",
       "      <td>0.015615</td>\n",
       "    </tr>\n",
       "    <tr>\n",
       "      <td>loudness</td>\n",
       "      <td>0.196825</td>\n",
       "      <td>0.746408</td>\n",
       "      <td>0.035454</td>\n",
       "      <td>1.000000</td>\n",
       "      <td>0.012468</td>\n",
       "      <td>0.043084</td>\n",
       "      <td>-0.475267</td>\n",
       "      <td>-0.328700</td>\n",
       "      <td>0.105713</td>\n",
       "      <td>0.292653</td>\n",
       "      <td>0.140544</td>\n",
       "      <td>-0.070555</td>\n",
       "      <td>0.139126</td>\n",
       "      <td>-0.009761</td>\n",
       "      <td>-0.087884</td>\n",
       "      <td>0.248918</td>\n",
       "    </tr>\n",
       "    <tr>\n",
       "      <td>mode</td>\n",
       "      <td>-0.052277</td>\n",
       "      <td>-0.028187</td>\n",
       "      <td>-0.180651</td>\n",
       "      <td>0.012468</td>\n",
       "      <td>1.000000</td>\n",
       "      <td>-0.031326</td>\n",
       "      <td>0.009972</td>\n",
       "      <td>-0.061435</td>\n",
       "      <td>0.001179</td>\n",
       "      <td>0.000746</td>\n",
       "      <td>0.037377</td>\n",
       "      <td>-0.070283</td>\n",
       "      <td>0.000870</td>\n",
       "      <td>-0.042139</td>\n",
       "      <td>-0.049021</td>\n",
       "      <td>0.044977</td>\n",
       "    </tr>\n",
       "    <tr>\n",
       "      <td>speechiness</td>\n",
       "      <td>0.056490</td>\n",
       "      <td>0.145268</td>\n",
       "      <td>-0.003992</td>\n",
       "      <td>0.043084</td>\n",
       "      <td>-0.031326</td>\n",
       "      <td>1.000000</td>\n",
       "      <td>-0.039662</td>\n",
       "      <td>-0.006111</td>\n",
       "      <td>0.135611</td>\n",
       "      <td>-0.010153</td>\n",
       "      <td>0.025760</td>\n",
       "      <td>0.013136</td>\n",
       "      <td>0.009160</td>\n",
       "      <td>0.032715</td>\n",
       "      <td>-0.007598</td>\n",
       "      <td>-0.195129</td>\n",
       "    </tr>\n",
       "    <tr>\n",
       "      <td>acousticness</td>\n",
       "      <td>-0.241466</td>\n",
       "      <td>-0.664995</td>\n",
       "      <td>-0.040471</td>\n",
       "      <td>-0.475267</td>\n",
       "      <td>0.009972</td>\n",
       "      <td>-0.039662</td>\n",
       "      <td>1.000000</td>\n",
       "      <td>0.205254</td>\n",
       "      <td>-0.058258</td>\n",
       "      <td>-0.291904</td>\n",
       "      <td>-0.160443</td>\n",
       "      <td>-0.014716</td>\n",
       "      <td>-0.160182</td>\n",
       "      <td>-0.009867</td>\n",
       "      <td>0.023550</td>\n",
       "      <td>-0.292108</td>\n",
       "    </tr>\n",
       "    <tr>\n",
       "      <td>instrumentalness</td>\n",
       "      <td>-0.307968</td>\n",
       "      <td>-0.181078</td>\n",
       "      <td>-0.003150</td>\n",
       "      <td>-0.328700</td>\n",
       "      <td>-0.061435</td>\n",
       "      <td>-0.006111</td>\n",
       "      <td>0.205254</td>\n",
       "      <td>1.000000</td>\n",
       "      <td>-0.000175</td>\n",
       "      <td>-0.293831</td>\n",
       "      <td>-0.063820</td>\n",
       "      <td>0.043701</td>\n",
       "      <td>-0.122820</td>\n",
       "      <td>0.022472</td>\n",
       "      <td>0.027745</td>\n",
       "      <td>-0.386725</td>\n",
       "    </tr>\n",
       "    <tr>\n",
       "      <td>liveness</td>\n",
       "      <td>-0.162616</td>\n",
       "      <td>0.188647</td>\n",
       "      <td>-0.004815</td>\n",
       "      <td>0.105713</td>\n",
       "      <td>0.001179</td>\n",
       "      <td>0.135611</td>\n",
       "      <td>-0.058258</td>\n",
       "      <td>-0.000175</td>\n",
       "      <td>1.000000</td>\n",
       "      <td>-0.062093</td>\n",
       "      <td>0.028145</td>\n",
       "      <td>0.018598</td>\n",
       "      <td>-0.010573</td>\n",
       "      <td>0.044822</td>\n",
       "      <td>-0.012769</td>\n",
       "      <td>-0.101236</td>\n",
       "    </tr>\n",
       "    <tr>\n",
       "      <td>valence</td>\n",
       "      <td>0.609570</td>\n",
       "      <td>0.364493</td>\n",
       "      <td>0.028986</td>\n",
       "      <td>0.292653</td>\n",
       "      <td>0.000746</td>\n",
       "      <td>-0.010153</td>\n",
       "      <td>-0.291904</td>\n",
       "      <td>-0.293831</td>\n",
       "      <td>-0.062093</td>\n",
       "      <td>1.000000</td>\n",
       "      <td>0.138075</td>\n",
       "      <td>-0.093354</td>\n",
       "      <td>0.166539</td>\n",
       "      <td>-0.053732</td>\n",
       "      <td>-0.058313</td>\n",
       "      <td>0.262301</td>\n",
       "    </tr>\n",
       "    <tr>\n",
       "      <td>tempo</td>\n",
       "      <td>-0.092411</td>\n",
       "      <td>0.208639</td>\n",
       "      <td>-0.004265</td>\n",
       "      <td>0.140544</td>\n",
       "      <td>0.037377</td>\n",
       "      <td>0.025760</td>\n",
       "      <td>-0.160443</td>\n",
       "      <td>-0.063820</td>\n",
       "      <td>0.028145</td>\n",
       "      <td>0.138075</td>\n",
       "      <td>1.000000</td>\n",
       "      <td>-0.061561</td>\n",
       "      <td>0.022010</td>\n",
       "      <td>-0.068207</td>\n",
       "      <td>0.012580</td>\n",
       "      <td>0.044943</td>\n",
       "    </tr>\n",
       "    <tr>\n",
       "      <td>duration_ms</td>\n",
       "      <td>0.023058</td>\n",
       "      <td>-0.022062</td>\n",
       "      <td>0.007175</td>\n",
       "      <td>-0.070555</td>\n",
       "      <td>-0.070283</td>\n",
       "      <td>0.013136</td>\n",
       "      <td>-0.014716</td>\n",
       "      <td>0.043701</td>\n",
       "      <td>0.018598</td>\n",
       "      <td>-0.093354</td>\n",
       "      <td>-0.061561</td>\n",
       "      <td>1.000000</td>\n",
       "      <td>0.014371</td>\n",
       "      <td>0.108617</td>\n",
       "      <td>0.874303</td>\n",
       "      <td>0.022023</td>\n",
       "    </tr>\n",
       "    <tr>\n",
       "      <td>time_signature</td>\n",
       "      <td>0.186349</td>\n",
       "      <td>0.155974</td>\n",
       "      <td>0.009912</td>\n",
       "      <td>0.139126</td>\n",
       "      <td>0.000870</td>\n",
       "      <td>0.009160</td>\n",
       "      <td>-0.160182</td>\n",
       "      <td>-0.122820</td>\n",
       "      <td>-0.010573</td>\n",
       "      <td>0.166539</td>\n",
       "      <td>0.022010</td>\n",
       "      <td>0.014371</td>\n",
       "      <td>1.000000</td>\n",
       "      <td>-0.003196</td>\n",
       "      <td>0.001664</td>\n",
       "      <td>0.127942</td>\n",
       "    </tr>\n",
       "    <tr>\n",
       "      <td>chorus_hit</td>\n",
       "      <td>-0.019991</td>\n",
       "      <td>0.013331</td>\n",
       "      <td>0.031360</td>\n",
       "      <td>-0.009761</td>\n",
       "      <td>-0.042139</td>\n",
       "      <td>0.032715</td>\n",
       "      <td>-0.009867</td>\n",
       "      <td>0.022472</td>\n",
       "      <td>0.044822</td>\n",
       "      <td>-0.053732</td>\n",
       "      <td>-0.068207</td>\n",
       "      <td>0.108617</td>\n",
       "      <td>-0.003196</td>\n",
       "      <td>1.000000</td>\n",
       "      <td>-0.092162</td>\n",
       "      <td>-0.024451</td>\n",
       "    </tr>\n",
       "    <tr>\n",
       "      <td>sections</td>\n",
       "      <td>0.021912</td>\n",
       "      <td>-0.056801</td>\n",
       "      <td>-0.003272</td>\n",
       "      <td>-0.087884</td>\n",
       "      <td>-0.049021</td>\n",
       "      <td>-0.007598</td>\n",
       "      <td>0.023550</td>\n",
       "      <td>0.027745</td>\n",
       "      <td>-0.012769</td>\n",
       "      <td>-0.058313</td>\n",
       "      <td>0.012580</td>\n",
       "      <td>0.874303</td>\n",
       "      <td>0.001664</td>\n",
       "      <td>-0.092162</td>\n",
       "      <td>1.000000</td>\n",
       "      <td>0.013143</td>\n",
       "    </tr>\n",
       "    <tr>\n",
       "      <td>target</td>\n",
       "      <td>0.347748</td>\n",
       "      <td>0.185201</td>\n",
       "      <td>0.015615</td>\n",
       "      <td>0.248918</td>\n",
       "      <td>0.044977</td>\n",
       "      <td>-0.195129</td>\n",
       "      <td>-0.292108</td>\n",
       "      <td>-0.386725</td>\n",
       "      <td>-0.101236</td>\n",
       "      <td>0.262301</td>\n",
       "      <td>0.044943</td>\n",
       "      <td>0.022023</td>\n",
       "      <td>0.127942</td>\n",
       "      <td>-0.024451</td>\n",
       "      <td>0.013143</td>\n",
       "      <td>1.000000</td>\n",
       "    </tr>\n",
       "  </tbody>\n",
       "</table>\n",
       "</div>"
      ],
      "text/plain": [
       "                  danceability    energy       key  loudness      mode  \\\n",
       "danceability          1.000000  0.166161  0.031154  0.196825 -0.052277   \n",
       "energy                0.166161  1.000000  0.045065  0.746408 -0.028187   \n",
       "key                   0.031154  0.045065  1.000000  0.035454 -0.180651   \n",
       "loudness              0.196825  0.746408  0.035454  1.000000  0.012468   \n",
       "mode                 -0.052277 -0.028187 -0.180651  0.012468  1.000000   \n",
       "speechiness           0.056490  0.145268 -0.003992  0.043084 -0.031326   \n",
       "acousticness         -0.241466 -0.664995 -0.040471 -0.475267  0.009972   \n",
       "instrumentalness     -0.307968 -0.181078 -0.003150 -0.328700 -0.061435   \n",
       "liveness             -0.162616  0.188647 -0.004815  0.105713  0.001179   \n",
       "valence               0.609570  0.364493  0.028986  0.292653  0.000746   \n",
       "tempo                -0.092411  0.208639 -0.004265  0.140544  0.037377   \n",
       "duration_ms           0.023058 -0.022062  0.007175 -0.070555 -0.070283   \n",
       "time_signature        0.186349  0.155974  0.009912  0.139126  0.000870   \n",
       "chorus_hit           -0.019991  0.013331  0.031360 -0.009761 -0.042139   \n",
       "sections              0.021912 -0.056801 -0.003272 -0.087884 -0.049021   \n",
       "target                0.347748  0.185201  0.015615  0.248918  0.044977   \n",
       "\n",
       "                  speechiness  acousticness  instrumentalness  liveness  \\\n",
       "danceability         0.056490     -0.241466         -0.307968 -0.162616   \n",
       "energy               0.145268     -0.664995         -0.181078  0.188647   \n",
       "key                 -0.003992     -0.040471         -0.003150 -0.004815   \n",
       "loudness             0.043084     -0.475267         -0.328700  0.105713   \n",
       "mode                -0.031326      0.009972         -0.061435  0.001179   \n",
       "speechiness          1.000000     -0.039662         -0.006111  0.135611   \n",
       "acousticness        -0.039662      1.000000          0.205254 -0.058258   \n",
       "instrumentalness    -0.006111      0.205254          1.000000 -0.000175   \n",
       "liveness             0.135611     -0.058258         -0.000175  1.000000   \n",
       "valence             -0.010153     -0.291904         -0.293831 -0.062093   \n",
       "tempo                0.025760     -0.160443         -0.063820  0.028145   \n",
       "duration_ms          0.013136     -0.014716          0.043701  0.018598   \n",
       "time_signature       0.009160     -0.160182         -0.122820 -0.010573   \n",
       "chorus_hit           0.032715     -0.009867          0.022472  0.044822   \n",
       "sections            -0.007598      0.023550          0.027745 -0.012769   \n",
       "target              -0.195129     -0.292108         -0.386725 -0.101236   \n",
       "\n",
       "                   valence     tempo  duration_ms  time_signature  chorus_hit  \\\n",
       "danceability      0.609570 -0.092411     0.023058        0.186349   -0.019991   \n",
       "energy            0.364493  0.208639    -0.022062        0.155974    0.013331   \n",
       "key               0.028986 -0.004265     0.007175        0.009912    0.031360   \n",
       "loudness          0.292653  0.140544    -0.070555        0.139126   -0.009761   \n",
       "mode              0.000746  0.037377    -0.070283        0.000870   -0.042139   \n",
       "speechiness      -0.010153  0.025760     0.013136        0.009160    0.032715   \n",
       "acousticness     -0.291904 -0.160443    -0.014716       -0.160182   -0.009867   \n",
       "instrumentalness -0.293831 -0.063820     0.043701       -0.122820    0.022472   \n",
       "liveness         -0.062093  0.028145     0.018598       -0.010573    0.044822   \n",
       "valence           1.000000  0.138075    -0.093354        0.166539   -0.053732   \n",
       "tempo             0.138075  1.000000    -0.061561        0.022010   -0.068207   \n",
       "duration_ms      -0.093354 -0.061561     1.000000        0.014371    0.108617   \n",
       "time_signature    0.166539  0.022010     0.014371        1.000000   -0.003196   \n",
       "chorus_hit       -0.053732 -0.068207     0.108617       -0.003196    1.000000   \n",
       "sections         -0.058313  0.012580     0.874303        0.001664   -0.092162   \n",
       "target            0.262301  0.044943     0.022023        0.127942   -0.024451   \n",
       "\n",
       "                  sections    target  \n",
       "danceability      0.021912  0.347748  \n",
       "energy           -0.056801  0.185201  \n",
       "key              -0.003272  0.015615  \n",
       "loudness         -0.087884  0.248918  \n",
       "mode             -0.049021  0.044977  \n",
       "speechiness      -0.007598 -0.195129  \n",
       "acousticness      0.023550 -0.292108  \n",
       "instrumentalness  0.027745 -0.386725  \n",
       "liveness         -0.012769 -0.101236  \n",
       "valence          -0.058313  0.262301  \n",
       "tempo             0.012580  0.044943  \n",
       "duration_ms       0.874303  0.022023  \n",
       "time_signature    0.001664  0.127942  \n",
       "chorus_hit       -0.092162 -0.024451  \n",
       "sections          1.000000  0.013143  \n",
       "target            0.013143  1.000000  "
      ]
     },
     "execution_count": 12,
     "metadata": {},
     "output_type": "execute_result"
    }
   ],
   "source": [
    "df.corr()"
   ]
  },
  {
   "cell_type": "markdown",
   "metadata": {},
   "source": [
    "### Non c'è nessun mising values!!!"
   ]
  },
  {
   "cell_type": "code",
   "execution_count": 13,
   "metadata": {},
   "outputs": [
    {
     "data": {
      "text/plain": [
       "track               0\n",
       "artist              0\n",
       "uri                 0\n",
       "danceability        0\n",
       "energy              0\n",
       "key                 0\n",
       "loudness            0\n",
       "mode                0\n",
       "speechiness         0\n",
       "acousticness        0\n",
       "instrumentalness    0\n",
       "liveness            0\n",
       "valence             0\n",
       "tempo               0\n",
       "duration_ms         0\n",
       "time_signature      0\n",
       "chorus_hit          0\n",
       "sections            0\n",
       "target              0\n",
       "dtype: int64"
      ]
     },
     "execution_count": 13,
     "metadata": {},
     "output_type": "execute_result"
    }
   ],
   "source": [
    "df.isnull().sum()"
   ]
  },
  {
   "cell_type": "markdown",
   "metadata": {},
   "source": [
    "## Elimino feature non pertinenti e 'valence' in quanto molto correlata con le altre"
   ]
  },
  {
   "cell_type": "code",
   "execution_count": 14,
   "metadata": {},
   "outputs": [],
   "source": [
    "df = df.drop(['track', 'artist', 'uri', 'valence'], axis=1)\n"
   ]
  },
  {
   "cell_type": "code",
   "execution_count": 15,
   "metadata": {},
   "outputs": [
    {
     "data": {
      "text/html": [
       "<div>\n",
       "<style scoped>\n",
       "    .dataframe tbody tr th:only-of-type {\n",
       "        vertical-align: middle;\n",
       "    }\n",
       "\n",
       "    .dataframe tbody tr th {\n",
       "        vertical-align: top;\n",
       "    }\n",
       "\n",
       "    .dataframe thead th {\n",
       "        text-align: right;\n",
       "    }\n",
       "</style>\n",
       "<table border=\"1\" class=\"dataframe\">\n",
       "  <thead>\n",
       "    <tr style=\"text-align: right;\">\n",
       "      <th></th>\n",
       "      <th>danceability</th>\n",
       "      <th>energy</th>\n",
       "      <th>key</th>\n",
       "      <th>loudness</th>\n",
       "      <th>mode</th>\n",
       "      <th>speechiness</th>\n",
       "      <th>acousticness</th>\n",
       "      <th>instrumentalness</th>\n",
       "      <th>liveness</th>\n",
       "      <th>tempo</th>\n",
       "      <th>duration_ms</th>\n",
       "      <th>time_signature</th>\n",
       "      <th>chorus_hit</th>\n",
       "      <th>sections</th>\n",
       "      <th>target</th>\n",
       "    </tr>\n",
       "  </thead>\n",
       "  <tbody>\n",
       "    <tr>\n",
       "      <td>0</td>\n",
       "      <td>0.509</td>\n",
       "      <td>0.277</td>\n",
       "      <td>6</td>\n",
       "      <td>-14.323</td>\n",
       "      <td>1</td>\n",
       "      <td>0.0495</td>\n",
       "      <td>0.827</td>\n",
       "      <td>0.00206</td>\n",
       "      <td>0.0756</td>\n",
       "      <td>101.157</td>\n",
       "      <td>161893</td>\n",
       "      <td>4</td>\n",
       "      <td>68.46530</td>\n",
       "      <td>7</td>\n",
       "      <td>0</td>\n",
       "    </tr>\n",
       "    <tr>\n",
       "      <td>1</td>\n",
       "      <td>0.716</td>\n",
       "      <td>0.753</td>\n",
       "      <td>2</td>\n",
       "      <td>-5.682</td>\n",
       "      <td>1</td>\n",
       "      <td>0.0286</td>\n",
       "      <td>0.162</td>\n",
       "      <td>0.03060</td>\n",
       "      <td>0.0831</td>\n",
       "      <td>120.141</td>\n",
       "      <td>222000</td>\n",
       "      <td>4</td>\n",
       "      <td>57.71583</td>\n",
       "      <td>11</td>\n",
       "      <td>1</td>\n",
       "    </tr>\n",
       "    <tr>\n",
       "      <td>2</td>\n",
       "      <td>0.360</td>\n",
       "      <td>0.542</td>\n",
       "      <td>5</td>\n",
       "      <td>-13.885</td>\n",
       "      <td>1</td>\n",
       "      <td>0.0339</td>\n",
       "      <td>0.368</td>\n",
       "      <td>0.16500</td>\n",
       "      <td>0.1160</td>\n",
       "      <td>116.831</td>\n",
       "      <td>444907</td>\n",
       "      <td>4</td>\n",
       "      <td>30.34574</td>\n",
       "      <td>17</td>\n",
       "      <td>0</td>\n",
       "    </tr>\n",
       "    <tr>\n",
       "      <td>3</td>\n",
       "      <td>0.656</td>\n",
       "      <td>0.512</td>\n",
       "      <td>7</td>\n",
       "      <td>-11.872</td>\n",
       "      <td>1</td>\n",
       "      <td>0.0290</td>\n",
       "      <td>0.585</td>\n",
       "      <td>0.00000</td>\n",
       "      <td>0.0720</td>\n",
       "      <td>97.500</td>\n",
       "      <td>157893</td>\n",
       "      <td>3</td>\n",
       "      <td>50.97022</td>\n",
       "      <td>7</td>\n",
       "      <td>0</td>\n",
       "    </tr>\n",
       "    <tr>\n",
       "      <td>4</td>\n",
       "      <td>0.642</td>\n",
       "      <td>0.889</td>\n",
       "      <td>2</td>\n",
       "      <td>-5.620</td>\n",
       "      <td>0</td>\n",
       "      <td>0.0494</td>\n",
       "      <td>0.375</td>\n",
       "      <td>0.00000</td>\n",
       "      <td>0.1800</td>\n",
       "      <td>163.351</td>\n",
       "      <td>162293</td>\n",
       "      <td>4</td>\n",
       "      <td>33.62053</td>\n",
       "      <td>7</td>\n",
       "      <td>1</td>\n",
       "    </tr>\n",
       "  </tbody>\n",
       "</table>\n",
       "</div>"
      ],
      "text/plain": [
       "   danceability  energy  key  loudness  mode  speechiness  acousticness  \\\n",
       "0         0.509   0.277    6   -14.323     1       0.0495         0.827   \n",
       "1         0.716   0.753    2    -5.682     1       0.0286         0.162   \n",
       "2         0.360   0.542    5   -13.885     1       0.0339         0.368   \n",
       "3         0.656   0.512    7   -11.872     1       0.0290         0.585   \n",
       "4         0.642   0.889    2    -5.620     0       0.0494         0.375   \n",
       "\n",
       "   instrumentalness  liveness    tempo  duration_ms  time_signature  \\\n",
       "0           0.00206    0.0756  101.157       161893               4   \n",
       "1           0.03060    0.0831  120.141       222000               4   \n",
       "2           0.16500    0.1160  116.831       444907               4   \n",
       "3           0.00000    0.0720   97.500       157893               3   \n",
       "4           0.00000    0.1800  163.351       162293               4   \n",
       "\n",
       "   chorus_hit  sections  target  \n",
       "0    68.46530         7       0  \n",
       "1    57.71583        11       1  \n",
       "2    30.34574        17       0  \n",
       "3    50.97022         7       0  \n",
       "4    33.62053         7       1  "
      ]
     },
     "execution_count": 15,
     "metadata": {},
     "output_type": "execute_result"
    }
   ],
   "source": [
    "df.head()"
   ]
  },
  {
   "cell_type": "markdown",
   "metadata": {},
   "source": [
    "##  Let's check the classes distribution!"
   ]
  },
  {
   "cell_type": "code",
   "execution_count": 16,
   "metadata": {},
   "outputs": [
    {
     "data": {
      "text/plain": [
       "1    3454\n",
       "0    3454\n",
       "Name: target, dtype: int64"
      ]
     },
     "execution_count": 16,
     "metadata": {},
     "output_type": "execute_result"
    }
   ],
   "source": [
    "class_name = 'target'\n",
    "df[class_name].value_counts()"
   ]
  },
  {
   "cell_type": "markdown",
   "metadata": {},
   "source": [
    "### Le due classi sono perfettamente bilanciate. Un classificatore naif avrebbe un'accuratezza del 50% che prendiamo come baseline"
   ]
  },
  {
   "cell_type": "markdown",
   "metadata": {},
   "source": [
    "## Dataset Partitioning into Train and Test"
   ]
  },
  {
   "cell_type": "code",
   "execution_count": 17,
   "metadata": {},
   "outputs": [],
   "source": [
    "from sklearn.model_selection import train_test_split"
   ]
  },
  {
   "cell_type": "code",
   "execution_count": 18,
   "metadata": {},
   "outputs": [],
   "source": [
    "features = [c for c in df.columns if c != 'target']\n",
    "\n",
    "X_train, X_test, y_train, y_test = train_test_split(df[features], df['target'], \n",
    "                                                    test_size=0.3, stratify=df['target'])"
   ]
  },
  {
   "cell_type": "markdown",
   "metadata": {},
   "source": [
    "### Le due classi sono perfettamente sbilanciate. Un classificatore naif avrebbe un'accuratezza del 50% che prendiamo come baseline"
   ]
  },
  {
   "cell_type": "markdown",
   "metadata": {},
   "source": [
    "## Create a Decision Tree Classifier and Train with a good parameter setting"
   ]
  },
  {
   "cell_type": "code",
   "execution_count": 19,
   "metadata": {},
   "outputs": [],
   "source": [
    "from sklearn.tree import DecisionTreeClassifier"
   ]
  },
  {
   "cell_type": "code",
   "execution_count": 20,
   "metadata": {},
   "outputs": [
    {
     "data": {
      "text/plain": [
       "DecisionTreeClassifier(ccp_alpha=0.0, class_weight=None, criterion='gini',\n",
       "                       max_depth=4, max_features=None, max_leaf_nodes=None,\n",
       "                       min_impurity_decrease=0.0, min_impurity_split=None,\n",
       "                       min_samples_leaf=1, min_samples_split=2,\n",
       "                       min_weight_fraction_leaf=0.0, presort='deprecated',\n",
       "                       random_state=None, splitter='best')"
      ]
     },
     "execution_count": 20,
     "metadata": {},
     "output_type": "execute_result"
    }
   ],
   "source": [
    "clf = DecisionTreeClassifier(criterion='gini', max_depth=4, min_samples_leaf=1, min_samples_split=2)\n",
    "clf.fit(X_train, y_train)"
   ]
  },
  {
   "cell_type": "code",
   "execution_count": 21,
   "metadata": {},
   "outputs": [],
   "source": [
    "y_pred = clf.predict(X_test)"
   ]
  },
  {
   "cell_type": "code",
   "execution_count": 22,
   "metadata": {},
   "outputs": [
    {
     "data": {
      "text/plain": [
       "array([1, 1, 0, 0, 1], dtype=int64)"
      ]
     },
     "execution_count": 22,
     "metadata": {},
     "output_type": "execute_result"
    }
   ],
   "source": [
    "y_pred[:5]"
   ]
  },
  {
   "cell_type": "code",
   "execution_count": 23,
   "metadata": {},
   "outputs": [],
   "source": [
    "from sklearn.tree import plot_tree"
   ]
  },
  {
   "cell_type": "code",
   "execution_count": 24,
   "metadata": {},
   "outputs": [
    {
     "data": {
      "image/png": "[encoded data removed]",
      "text/plain": [
       "<Figure size 432x288 with 1 Axes>"
      ]
     },
     "metadata": {
      "needs_background": "light"
     },
     "output_type": "display_data"
    }
   ],
   "source": [
    "plot_tree(clf)\n",
    "plt.show()"
   ]
  },
  {
   "cell_type": "code",
   "execution_count": 25,
   "metadata": {},
   "outputs": [],
   "source": [
    "import pydotplus\n",
    "from sklearn import tree\n",
    "from IPython.display import Image"
   ]
  },
  {
   "cell_type": "code",
   "execution_count": 26,
   "metadata": {},
   "outputs": [],
   "source": [
    "#dot_data = tree.export_graphviz(clf, out_file=None, feature_names=[c for c in df.columns if c!= class_name],\n",
    "                                #class_names=np.unique(y), filled=True, rounded=True, max_depth=None)\n",
    "#graph = pydotplus.graph_from_dot_data(dot_data)\n",
    "#Image(graph.create_png())"
   ]
  },
  {
   "cell_type": "markdown",
   "metadata": {},
   "source": [
    "### Features importance"
   ]
  },
  {
   "cell_type": "code",
   "execution_count": 27,
   "metadata": {},
   "outputs": [
    {
     "data": {
      "text/plain": [
       "array([0.05513417, 0.01377531, 0.        , 0.01509251, 0.        ,\n",
       "       0.12084846, 0.13636925, 0.46131233, 0.00663418, 0.        ,\n",
       "       0.18866175, 0.        , 0.00217202, 0.        ])"
      ]
     },
     "execution_count": 27,
     "metadata": {},
     "output_type": "execute_result"
    }
   ],
   "source": [
    "clf.feature_importances_"
   ]
  },
  {
   "cell_type": "code",
   "execution_count": 28,
   "metadata": {},
   "outputs": [
    {
     "data": {
      "text/plain": [
       "array(['danceability', 'energy', 'key', 'loudness', 'mode', 'speechiness',\n",
       "       'acousticness', 'instrumentalness', 'liveness', 'tempo',\n",
       "       'duration_ms', 'time_signature', 'chorus_hit', 'sections',\n",
       "       'target'], dtype=object)"
      ]
     },
     "execution_count": 28,
     "metadata": {},
     "output_type": "execute_result"
    }
   ],
   "source": [
    "df.columns.values"
   ]
  },
  {
   "cell_type": "markdown",
   "metadata": {},
   "source": [
    "### Eliminiamo l'ultima colonna "
   ]
  },
  {
   "cell_type": "code",
   "execution_count": 29,
   "metadata": {},
   "outputs": [
    {
     "data": {
      "text/plain": [
       "['danceability',\n",
       " 'energy',\n",
       " 'key',\n",
       " 'loudness',\n",
       " 'mode',\n",
       " 'speechiness',\n",
       " 'acousticness',\n",
       " 'instrumentalness',\n",
       " 'liveness',\n",
       " 'tempo',\n",
       " 'duration_ms',\n",
       " 'time_signature',\n",
       " 'chorus_hit',\n",
       " 'sections']"
      ]
     },
     "execution_count": 29,
     "metadata": {},
     "output_type": "execute_result"
    }
   ],
   "source": [
    "df.columns.values.tolist()[:-1]"
   ]
  },
  {
   "cell_type": "code",
   "execution_count": 30,
   "metadata": {},
   "outputs": [
    {
     "name": "stdout",
     "output_type": "stream",
     "text": [
      "|--- instrumentalness <= 0.10\n",
      "|   |--- duration_ms <= 182760.00\n",
      "|   |   |--- danceability <= 0.39\n",
      "|   |   |   |--- chorus_hit <= 97.07\n",
      "|   |   |   |   |--- class: 0\n",
      "|   |   |   |--- chorus_hit >  97.07\n",
      "|   |   |   |   |--- class: 1\n",
      "|   |   |--- danceability >  0.39\n",
      "|   |   |   |--- energy <= 0.44\n",
      "|   |   |   |   |--- class: 0\n",
      "|   |   |   |--- energy >  0.44\n",
      "|   |   |   |   |--- class: 0\n",
      "|   |--- duration_ms >  182760.00\n",
      "|   |   |--- acousticness <= 0.59\n",
      "|   |   |   |--- speechiness <= 0.07\n",
      "|   |   |   |   |--- class: 1\n",
      "|   |   |   |--- speechiness >  0.07\n",
      "|   |   |   |   |--- class: 0\n",
      "|   |   |--- acousticness >  0.59\n",
      "|   |   |   |--- speechiness <= 0.03\n",
      "|   |   |   |   |--- class: 0\n",
      "|   |   |   |--- speechiness >  0.03\n",
      "|   |   |   |   |--- class: 0\n",
      "|--- instrumentalness >  0.10\n",
      "|   |--- danceability <= 0.55\n",
      "|   |   |--- instrumentalness <= 0.32\n",
      "|   |   |   |--- liveness <= 0.04\n",
      "|   |   |   |   |--- class: 1\n",
      "|   |   |   |--- liveness >  0.04\n",
      "|   |   |   |   |--- class: 0\n",
      "|   |   |--- instrumentalness >  0.32\n",
      "|   |   |   |--- danceability <= 0.54\n",
      "|   |   |   |   |--- class: 0\n",
      "|   |   |   |--- danceability >  0.54\n",
      "|   |   |   |   |--- class: 0\n",
      "|   |--- danceability >  0.55\n",
      "|   |   |--- instrumentalness <= 0.59\n",
      "|   |   |   |--- loudness <= -13.62\n",
      "|   |   |   |   |--- class: 0\n",
      "|   |   |   |--- loudness >  -13.62\n",
      "|   |   |   |   |--- class: 1\n",
      "|   |   |--- instrumentalness >  0.59\n",
      "|   |   |   |--- liveness <= 0.06\n",
      "|   |   |   |   |--- class: 0\n",
      "|   |   |   |--- liveness >  0.06\n",
      "|   |   |   |   |--- class: 0\n",
      "\n"
     ]
    }
   ],
   "source": [
    "print(tree.export_text(clf, feature_names=[c for c in df.columns if c!= class_name]))"
   ]
  },
  {
   "cell_type": "markdown",
   "metadata": {},
   "source": [
    "## Validation"
   ]
  },
  {
   "cell_type": "code",
   "execution_count": 31,
   "metadata": {},
   "outputs": [],
   "source": [
    "from sklearn.metrics import confusion_matrix\n",
    "from sklearn.metrics import accuracy_score, f1_score, classification_report\n",
    "from sklearn.metrics import roc_curve, auc, roc_auc_score"
   ]
  },
  {
   "cell_type": "code",
   "execution_count": 32,
   "metadata": {},
   "outputs": [
    {
     "data": {
      "text/plain": [
       "0.7414375301495417"
      ]
     },
     "execution_count": 32,
     "metadata": {},
     "output_type": "execute_result"
    }
   ],
   "source": [
    "accuracy_score(y_test, y_pred)"
   ]
  },
  {
   "cell_type": "code",
   "execution_count": 33,
   "metadata": {},
   "outputs": [
    {
     "data": {
      "text/plain": [
       "array([0.73955296, 0.74329502])"
      ]
     },
     "execution_count": 33,
     "metadata": {},
     "output_type": "execute_result"
    }
   ],
   "source": [
    "f1_score(y_test, y_pred, average=None)"
   ]
  },
  {
   "cell_type": "code",
   "execution_count": 34,
   "metadata": {},
   "outputs": [
    {
     "name": "stdout",
     "output_type": "stream",
     "text": [
      "              precision    recall  f1-score   support\n",
      "\n",
      "           0       0.75      0.73      0.74      1037\n",
      "           1       0.74      0.75      0.74      1036\n",
      "\n",
      "    accuracy                           0.74      2073\n",
      "   macro avg       0.74      0.74      0.74      2073\n",
      "weighted avg       0.74      0.74      0.74      2073\n",
      "\n"
     ]
    }
   ],
   "source": [
    "print(classification_report(y_test, y_pred))"
   ]
  },
  {
   "cell_type": "code",
   "execution_count": 35,
   "metadata": {},
   "outputs": [
    {
     "data": {
      "text/plain": [
       "array([[761, 276],\n",
       "       [260, 776]], dtype=int64)"
      ]
     },
     "execution_count": 35,
     "metadata": {},
     "output_type": "execute_result"
    }
   ],
   "source": [
    "confusion_matrix(y_test,y_pred)"
   ]
  },
  {
   "cell_type": "code",
   "execution_count": 36,
   "metadata": {},
   "outputs": [
    {
     "data": {
      "text/plain": [
       "array([[0.22780424, 0.77219576],\n",
       "       [0.22780424, 0.77219576],\n",
       "       [0.55533199, 0.44466801],\n",
       "       ...,\n",
       "       [0.9906015 , 0.0093985 ],\n",
       "       [0.872     , 0.128     ],\n",
       "       [0.55533199, 0.44466801]])"
      ]
     },
     "execution_count": 36,
     "metadata": {},
     "output_type": "execute_result"
    }
   ],
   "source": [
    "clf.predict_proba(X_test)"
   ]
  },
  {
   "cell_type": "code",
   "execution_count": 37,
   "metadata": {},
   "outputs": [
    {
     "data": {
      "text/plain": [
       "(array([0.        , 0.26615236, 1.        ]),\n",
       " array([0.        , 0.74903475, 1.        ]),\n",
       " array([2, 1, 0], dtype=int64))"
      ]
     },
     "execution_count": 37,
     "metadata": {},
     "output_type": "execute_result"
    }
   ],
   "source": [
    "roc_curve(y_test, y_pred)"
   ]
  },
  {
   "cell_type": "code",
   "execution_count": 38,
   "metadata": {},
   "outputs": [],
   "source": [
    "from sklearn.metrics import accuracy_score"
   ]
  },
  {
   "cell_type": "code",
   "execution_count": 39,
   "metadata": {},
   "outputs": [
    {
     "data": {
      "text/plain": [
       "0.7414375301495417"
      ]
     },
     "execution_count": 39,
     "metadata": {},
     "output_type": "execute_result"
    }
   ],
   "source": [
    "y_pred = clf.predict(X_test)\n",
    "accuracy_score(y_pred, y_test)"
   ]
  },
  {
   "cell_type": "code",
   "execution_count": 40,
   "metadata": {},
   "outputs": [],
   "source": [
    "from scikitplot.metrics import plot_roc"
   ]
  },
  {
   "cell_type": "code",
   "execution_count": 41,
   "metadata": {},
   "outputs": [
    {
     "data": {
      "image/png": "[encoded data removed]",
      "text/plain": [
       "<Figure size 432x288 with 1 Axes>"
      ]
     },
     "metadata": {
      "needs_background": "light"
     },
     "output_type": "display_data"
    }
   ],
   "source": [
    "plot_roc(y_test, clf.predict_proba(X_test))\n",
    "plt.show()"
   ]
  },
  {
   "cell_type": "code",
   "execution_count": 42,
   "metadata": {},
   "outputs": [],
   "source": [
    "import pydotplus\n",
    "from sklearn import tree\n",
    "from IPython.display import Image"
   ]
  },
  {
   "cell_type": "code",
   "execution_count": 43,
   "metadata": {},
   "outputs": [],
   "source": [
    "#dot_data = tree.export_graphviz(clf, out_file=None, feature_names=[c for c in df.columns if c!= class_name],\n",
    "                                #class_names=np.unique(y), filled=True, rounded=True, max_depth=None)\n",
    "#graph = pydotplus.graph_from_dot_data(dot_data)\n",
    "#Image(graph.create_png())"
   ]
  },
  {
   "cell_type": "code",
   "execution_count": 44,
   "metadata": {},
   "outputs": [
    {
     "data": {
      "text/plain": [
       "array([0.05513417, 0.01377531, 0.        , 0.01509251, 0.        ,\n",
       "       0.12084846, 0.13636925, 0.46131233, 0.00663418, 0.        ,\n",
       "       0.18866175, 0.        , 0.00217202, 0.        ])"
      ]
     },
     "execution_count": 44,
     "metadata": {},
     "output_type": "execute_result"
    }
   ],
   "source": [
    "clf.feature_importances_"
   ]
  },
  {
   "cell_type": "code",
   "execution_count": 45,
   "metadata": {},
   "outputs": [
    {
     "data": {
      "text/plain": [
       "['danceability',\n",
       " 'energy',\n",
       " 'key',\n",
       " 'loudness',\n",
       " 'mode',\n",
       " 'speechiness',\n",
       " 'acousticness',\n",
       " 'instrumentalness',\n",
       " 'liveness',\n",
       " 'tempo',\n",
       " 'duration_ms',\n",
       " 'time_signature',\n",
       " 'chorus_hit',\n",
       " 'sections']"
      ]
     },
     "execution_count": 45,
     "metadata": {},
     "output_type": "execute_result"
    }
   ],
   "source": [
    "df.columns.values.tolist()[:-1]"
   ]
  },
  {
   "cell_type": "code",
   "execution_count": 46,
   "metadata": {},
   "outputs": [
    {
     "name": "stdout",
     "output_type": "stream",
     "text": [
      "|--- instrumentalness <= 0.10\n",
      "|   |--- duration_ms <= 182760.00\n",
      "|   |   |--- danceability <= 0.39\n",
      "|   |   |   |--- chorus_hit <= 97.07\n",
      "|   |   |   |   |--- class: 0\n",
      "|   |   |   |--- chorus_hit >  97.07\n",
      "|   |   |   |   |--- class: 1\n",
      "|   |   |--- danceability >  0.39\n",
      "|   |   |   |--- energy <= 0.44\n",
      "|   |   |   |   |--- class: 0\n",
      "|   |   |   |--- energy >  0.44\n",
      "|   |   |   |   |--- class: 0\n",
      "|   |--- duration_ms >  182760.00\n",
      "|   |   |--- acousticness <= 0.59\n",
      "|   |   |   |--- speechiness <= 0.07\n",
      "|   |   |   |   |--- class: 1\n",
      "|   |   |   |--- speechiness >  0.07\n",
      "|   |   |   |   |--- class: 0\n",
      "|   |   |--- acousticness >  0.59\n",
      "|   |   |   |--- speechiness <= 0.03\n",
      "|   |   |   |   |--- class: 0\n",
      "|   |   |   |--- speechiness >  0.03\n",
      "|   |   |   |   |--- class: 0\n",
      "|--- instrumentalness >  0.10\n",
      "|   |--- danceability <= 0.55\n",
      "|   |   |--- instrumentalness <= 0.32\n",
      "|   |   |   |--- liveness <= 0.04\n",
      "|   |   |   |   |--- class: 1\n",
      "|   |   |   |--- liveness >  0.04\n",
      "|   |   |   |   |--- class: 0\n",
      "|   |   |--- instrumentalness >  0.32\n",
      "|   |   |   |--- danceability <= 0.54\n",
      "|   |   |   |   |--- class: 0\n",
      "|   |   |   |--- danceability >  0.54\n",
      "|   |   |   |   |--- class: 0\n",
      "|   |--- danceability >  0.55\n",
      "|   |   |--- instrumentalness <= 0.59\n",
      "|   |   |   |--- loudness <= -13.62\n",
      "|   |   |   |   |--- class: 0\n",
      "|   |   |   |--- loudness >  -13.62\n",
      "|   |   |   |   |--- class: 1\n",
      "|   |   |--- instrumentalness >  0.59\n",
      "|   |   |   |--- liveness <= 0.06\n",
      "|   |   |   |   |--- class: 0\n",
      "|   |   |   |--- liveness >  0.06\n",
      "|   |   |   |   |--- class: 0\n",
      "\n"
     ]
    }
   ],
   "source": [
    "print(tree.export_text(clf, feature_names=[c for c in df.columns if c!= class_name]))"
   ]
  },
  {
   "cell_type": "markdown",
   "metadata": {},
   "source": [
    "## Validazione del modello:\n",
    "\n",
    "### - Confusion Matrix\n",
    "### - Classification report: Accuracy, Precision, Recall, F1 Score\n",
    "### - Roc Curve, Auc, Roc_Auc_Score"
   ]
  },
  {
   "cell_type": "code",
   "execution_count": 47,
   "metadata": {},
   "outputs": [],
   "source": [
    "from sklearn.metrics import confusion_matrix\n",
    "from sklearn.metrics import accuracy_score, f1_score, classification_report\n",
    "from sklearn.metrics import roc_curve, auc, roc_auc_score"
   ]
  },
  {
   "cell_type": "code",
   "execution_count": 48,
   "metadata": {},
   "outputs": [
    {
     "data": {
      "text/plain": [
       "0.7414375301495417"
      ]
     },
     "execution_count": 48,
     "metadata": {},
     "output_type": "execute_result"
    }
   ],
   "source": [
    "accuracy_score(y_test, y_pred)"
   ]
  },
  {
   "cell_type": "code",
   "execution_count": 49,
   "metadata": {},
   "outputs": [
    {
     "data": {
      "text/plain": [
       "array([0.73955296, 0.74329502])"
      ]
     },
     "execution_count": 49,
     "metadata": {},
     "output_type": "execute_result"
    }
   ],
   "source": [
    "f1_score(y_test, y_pred, average=None)"
   ]
  },
  {
   "cell_type": "code",
   "execution_count": 50,
   "metadata": {},
   "outputs": [
    {
     "name": "stdout",
     "output_type": "stream",
     "text": [
      "              precision    recall  f1-score   support\n",
      "\n",
      "           0       0.75      0.73      0.74      1037\n",
      "           1       0.74      0.75      0.74      1036\n",
      "\n",
      "    accuracy                           0.74      2073\n",
      "   macro avg       0.74      0.74      0.74      2073\n",
      "weighted avg       0.74      0.74      0.74      2073\n",
      "\n"
     ]
    }
   ],
   "source": [
    "print(classification_report(y_test, y_pred))"
   ]
  },
  {
   "cell_type": "code",
   "execution_count": 51,
   "metadata": {},
   "outputs": [
    {
     "data": {
      "text/plain": [
       "array([[761, 276],\n",
       "       [260, 776]], dtype=int64)"
      ]
     },
     "execution_count": 51,
     "metadata": {},
     "output_type": "execute_result"
    }
   ],
   "source": [
    "confusion_matrix(y_test, y_pred)"
   ]
  },
  {
   "cell_type": "code",
   "execution_count": 52,
   "metadata": {},
   "outputs": [],
   "source": [
    "y_pred_proba = clf.predict_proba(X_test)"
   ]
  },
  {
   "cell_type": "markdown",
   "metadata": {},
   "source": [
    "### Cross validation "
   ]
  },
  {
   "cell_type": "code",
   "execution_count": 53,
   "metadata": {},
   "outputs": [],
   "source": [
    "from sklearn.model_selection import cross_val_score"
   ]
  },
  {
   "cell_type": "code",
   "execution_count": 54,
   "metadata": {},
   "outputs": [],
   "source": [
    "scores = cross_val_score(clf, X_train, y_train, cv=10, scoring='accuracy')"
   ]
  },
  {
   "cell_type": "code",
   "execution_count": 55,
   "metadata": {},
   "outputs": [
    {
     "data": {
      "text/plain": [
       "array([0.76033058, 0.76859504, 0.75413223, 0.75      , 0.72520661,\n",
       "       0.79089027, 0.70600414, 0.74741201, 0.77018634, 0.77225673])"
      ]
     },
     "execution_count": 55,
     "metadata": {},
     "output_type": "execute_result"
    }
   ],
   "source": [
    "scores"
   ]
  },
  {
   "cell_type": "code",
   "execution_count": 56,
   "metadata": {},
   "outputs": [
    {
     "data": {
      "text/plain": [
       "(0.7545013945211574, 0.023235438208242178)"
      ]
     },
     "execution_count": 56,
     "metadata": {},
     "output_type": "execute_result"
    }
   ],
   "source": [
    "np.mean(scores), np.std(scores)"
   ]
  },
  {
   "cell_type": "code",
   "execution_count": 57,
   "metadata": {},
   "outputs": [],
   "source": [
    "accuracy_list = list()\n",
    "accuracy_list_train = list()\n",
    "for max_depth in [1, 2, 3, 4, 5, 6, None]:\n",
    "    clf = DecisionTreeClassifier(max_depth=max_depth, random_state=0)\n",
    "    clf.fit(X_train, y_train)\n",
    "    y_pred = clf.predict(X_test)\n",
    "    accuracy_list.append(accuracy_score(y_pred, y_test))\n",
    "    accuracy_list_train.append(accuracy_score(clf.predict(X_train), y_train))"
   ]
  },
  {
   "cell_type": "code",
   "execution_count": 58,
   "metadata": {},
   "outputs": [
    {
     "data": {
      "image/png": "[encoded data removed]",
      "text/plain": [
       "<Figure size 432x288 with 1 Axes>"
      ]
     },
     "metadata": {
      "needs_background": "light"
     },
     "output_type": "display_data"
    }
   ],
   "source": [
    "plt.plot(range(1,8), accuracy_list)\n",
    "plt.plot(range(1,8), accuracy_list_train)\n",
    "plt.show()"
   ]
  },
  {
   "cell_type": "markdown",
   "metadata": {},
   "source": [
    "### -  Randomized Search"
   ]
  },
  {
   "cell_type": "code",
   "execution_count": 59,
   "metadata": {},
   "outputs": [],
   "source": [
    "from sklearn.model_selection import RandomizedSearchCV"
   ]
  },
  {
   "cell_type": "code",
   "execution_count": 60,
   "metadata": {},
   "outputs": [
    {
     "name": "stderr",
     "output_type": "stream",
     "text": [
      "C:\\Users\\drnic\\Anaconda3\\lib\\site-packages\\sklearn\\model_selection\\_validation.py:536: FitFailedWarning: Estimator fit failed. The score on this train-test partition for these parameters will be set to nan. Details: \n",
      "ValueError: min_samples_split must be an integer greater than 1 or a float in (0.0, 1.0]; got the integer 1\n",
      "\n",
      "  FitFailedWarning)\n",
      "C:\\Users\\drnic\\Anaconda3\\lib\\site-packages\\sklearn\\model_selection\\_validation.py:536: FitFailedWarning: Estimator fit failed. The score on this train-test partition for these parameters will be set to nan. Details: \n",
      "ValueError: min_samples_split must be an integer greater than 1 or a float in (0.0, 1.0]; got the integer 1\n",
      "\n",
      "  FitFailedWarning)\n",
      "C:\\Users\\drnic\\Anaconda3\\lib\\site-packages\\sklearn\\model_selection\\_validation.py:536: FitFailedWarning: Estimator fit failed. The score on this train-test partition for these parameters will be set to nan. Details: \n",
      "ValueError: min_samples_split must be an integer greater than 1 or a float in (0.0, 1.0]; got the integer 1\n",
      "\n",
      "  FitFailedWarning)\n",
      "C:\\Users\\drnic\\Anaconda3\\lib\\site-packages\\sklearn\\model_selection\\_validation.py:536: FitFailedWarning: Estimator fit failed. The score on this train-test partition for these parameters will be set to nan. Details: \n",
      "ValueError: min_samples_split must be an integer greater than 1 or a float in (0.0, 1.0]; got the integer 1\n",
      "\n",
      "  FitFailedWarning)\n",
      "C:\\Users\\drnic\\Anaconda3\\lib\\site-packages\\sklearn\\model_selection\\_validation.py:536: FitFailedWarning: Estimator fit failed. The score on this train-test partition for these parameters will be set to nan. Details: \n",
      "ValueError: min_samples_split must be an integer greater than 1 or a float in (0.0, 1.0]; got the integer 1\n",
      "\n",
      "  FitFailedWarning)\n",
      "C:\\Users\\drnic\\Anaconda3\\lib\\site-packages\\sklearn\\model_selection\\_validation.py:536: FitFailedWarning: Estimator fit failed. The score on this train-test partition for these parameters will be set to nan. Details: \n",
      "ValueError: min_samples_split must be an integer greater than 1 or a float in (0.0, 1.0]; got the integer 1\n",
      "\n",
      "  FitFailedWarning)\n",
      "C:\\Users\\drnic\\Anaconda3\\lib\\site-packages\\sklearn\\model_selection\\_validation.py:536: FitFailedWarning: Estimator fit failed. The score on this train-test partition for these parameters will be set to nan. Details: \n",
      "ValueError: min_samples_split must be an integer greater than 1 or a float in (0.0, 1.0]; got the integer 1\n",
      "\n",
      "  FitFailedWarning)\n",
      "C:\\Users\\drnic\\Anaconda3\\lib\\site-packages\\sklearn\\model_selection\\_validation.py:536: FitFailedWarning: Estimator fit failed. The score on this train-test partition for these parameters will be set to nan. Details: \n",
      "ValueError: min_samples_split must be an integer greater than 1 or a float in (0.0, 1.0]; got the integer 1\n",
      "\n",
      "  FitFailedWarning)\n",
      "C:\\Users\\drnic\\Anaconda3\\lib\\site-packages\\sklearn\\model_selection\\_validation.py:536: FitFailedWarning: Estimator fit failed. The score on this train-test partition for these parameters will be set to nan. Details: \n",
      "ValueError: min_samples_split must be an integer greater than 1 or a float in (0.0, 1.0]; got the integer 1\n",
      "\n",
      "  FitFailedWarning)\n",
      "C:\\Users\\drnic\\Anaconda3\\lib\\site-packages\\sklearn\\model_selection\\_validation.py:536: FitFailedWarning: Estimator fit failed. The score on this train-test partition for these parameters will be set to nan. Details: \n",
      "ValueError: min_samples_split must be an integer greater than 1 or a float in (0.0, 1.0]; got the integer 1\n",
      "\n",
      "  FitFailedWarning)\n",
      "C:\\Users\\drnic\\Anaconda3\\lib\\site-packages\\sklearn\\model_selection\\_validation.py:536: FitFailedWarning: Estimator fit failed. The score on this train-test partition for these parameters will be set to nan. Details: \n",
      "ValueError: min_samples_split must be an integer greater than 1 or a float in (0.0, 1.0]; got the integer 1\n",
      "\n",
      "  FitFailedWarning)\n",
      "C:\\Users\\drnic\\Anaconda3\\lib\\site-packages\\sklearn\\model_selection\\_validation.py:536: FitFailedWarning: Estimator fit failed. The score on this train-test partition for these parameters will be set to nan. Details: \n",
      "ValueError: min_samples_split must be an integer greater than 1 or a float in (0.0, 1.0]; got the integer 1\n",
      "\n",
      "  FitFailedWarning)\n",
      "C:\\Users\\drnic\\Anaconda3\\lib\\site-packages\\sklearn\\model_selection\\_validation.py:536: FitFailedWarning: Estimator fit failed. The score on this train-test partition for these parameters will be set to nan. Details: \n",
      "ValueError: min_samples_split must be an integer greater than 1 or a float in (0.0, 1.0]; got the integer 1\n",
      "\n",
      "  FitFailedWarning)\n",
      "C:\\Users\\drnic\\Anaconda3\\lib\\site-packages\\sklearn\\model_selection\\_validation.py:536: FitFailedWarning: Estimator fit failed. The score on this train-test partition for these parameters will be set to nan. Details: \n",
      "ValueError: min_samples_split must be an integer greater than 1 or a float in (0.0, 1.0]; got the integer 1\n",
      "\n",
      "  FitFailedWarning)\n",
      "C:\\Users\\drnic\\Anaconda3\\lib\\site-packages\\sklearn\\model_selection\\_validation.py:536: FitFailedWarning: Estimator fit failed. The score on this train-test partition for these parameters will be set to nan. Details: \n",
      "ValueError: min_samples_split must be an integer greater than 1 or a float in (0.0, 1.0]; got the integer 1\n",
      "\n",
      "  FitFailedWarning)\n",
      "C:\\Users\\drnic\\Anaconda3\\lib\\site-packages\\sklearn\\model_selection\\_validation.py:536: FitFailedWarning: Estimator fit failed. The score on this train-test partition for these parameters will be set to nan. Details: \n",
      "ValueError: min_samples_split must be an integer greater than 1 or a float in (0.0, 1.0]; got the integer 1\n",
      "\n",
      "  FitFailedWarning)\n",
      "C:\\Users\\drnic\\Anaconda3\\lib\\site-packages\\sklearn\\model_selection\\_validation.py:536: FitFailedWarning: Estimator fit failed. The score on this train-test partition for these parameters will be set to nan. Details: \n",
      "ValueError: min_samples_split must be an integer greater than 1 or a float in (0.0, 1.0]; got the integer 1\n",
      "\n",
      "  FitFailedWarning)\n",
      "C:\\Users\\drnic\\Anaconda3\\lib\\site-packages\\sklearn\\model_selection\\_validation.py:536: FitFailedWarning: Estimator fit failed. The score on this train-test partition for these parameters will be set to nan. Details: \n",
      "ValueError: min_samples_split must be an integer greater than 1 or a float in (0.0, 1.0]; got the integer 1\n",
      "\n",
      "  FitFailedWarning)\n",
      "C:\\Users\\drnic\\Anaconda3\\lib\\site-packages\\sklearn\\model_selection\\_validation.py:536: FitFailedWarning: Estimator fit failed. The score on this train-test partition for these parameters will be set to nan. Details: \n",
      "ValueError: min_samples_split must be an integer greater than 1 or a float in (0.0, 1.0]; got the integer 1\n",
      "\n",
      "  FitFailedWarning)\n",
      "C:\\Users\\drnic\\Anaconda3\\lib\\site-packages\\sklearn\\model_selection\\_validation.py:536: FitFailedWarning: Estimator fit failed. The score on this train-test partition for these parameters will be set to nan. Details: \n",
      "ValueError: min_samples_split must be an integer greater than 1 or a float in (0.0, 1.0]; got the integer 1\n",
      "\n",
      "  FitFailedWarning)\n",
      "C:\\Users\\drnic\\Anaconda3\\lib\\site-packages\\sklearn\\model_selection\\_validation.py:536: FitFailedWarning: Estimator fit failed. The score on this train-test partition for these parameters will be set to nan. Details: \n",
      "ValueError: min_samples_split must be an integer greater than 1 or a float in (0.0, 1.0]; got the integer 1\n",
      "\n",
      "  FitFailedWarning)\n",
      "C:\\Users\\drnic\\Anaconda3\\lib\\site-packages\\sklearn\\model_selection\\_validation.py:536: FitFailedWarning: Estimator fit failed. The score on this train-test partition for these parameters will be set to nan. Details: \n",
      "ValueError: min_samples_split must be an integer greater than 1 or a float in (0.0, 1.0]; got the integer 1\n",
      "\n",
      "  FitFailedWarning)\n",
      "C:\\Users\\drnic\\Anaconda3\\lib\\site-packages\\sklearn\\model_selection\\_validation.py:536: FitFailedWarning: Estimator fit failed. The score on this train-test partition for these parameters will be set to nan. Details: \n",
      "ValueError: min_samples_split must be an integer greater than 1 or a float in (0.0, 1.0]; got the integer 1\n",
      "\n",
      "  FitFailedWarning)\n",
      "C:\\Users\\drnic\\Anaconda3\\lib\\site-packages\\sklearn\\model_selection\\_validation.py:536: FitFailedWarning: Estimator fit failed. The score on this train-test partition for these parameters will be set to nan. Details: \n",
      "ValueError: min_samples_split must be an integer greater than 1 or a float in (0.0, 1.0]; got the integer 1\n",
      "\n",
      "  FitFailedWarning)\n",
      "C:\\Users\\drnic\\Anaconda3\\lib\\site-packages\\sklearn\\model_selection\\_validation.py:536: FitFailedWarning: Estimator fit failed. The score on this train-test partition for these parameters will be set to nan. Details: \n",
      "ValueError: min_samples_split must be an integer greater than 1 or a float in (0.0, 1.0]; got the integer 1\n",
      "\n",
      "  FitFailedWarning)\n"
     ]
    },
    {
     "name": "stderr",
     "output_type": "stream",
     "text": [
      "C:\\Users\\drnic\\Anaconda3\\lib\\site-packages\\sklearn\\model_selection\\_validation.py:536: FitFailedWarning: Estimator fit failed. The score on this train-test partition for these parameters will be set to nan. Details: \n",
      "ValueError: min_samples_split must be an integer greater than 1 or a float in (0.0, 1.0]; got the integer 1\n",
      "\n",
      "  FitFailedWarning)\n",
      "C:\\Users\\drnic\\Anaconda3\\lib\\site-packages\\sklearn\\model_selection\\_validation.py:536: FitFailedWarning: Estimator fit failed. The score on this train-test partition for these parameters will be set to nan. Details: \n",
      "ValueError: min_samples_split must be an integer greater than 1 or a float in (0.0, 1.0]; got the integer 1\n",
      "\n",
      "  FitFailedWarning)\n",
      "C:\\Users\\drnic\\Anaconda3\\lib\\site-packages\\sklearn\\model_selection\\_validation.py:536: FitFailedWarning: Estimator fit failed. The score on this train-test partition for these parameters will be set to nan. Details: \n",
      "ValueError: min_samples_split must be an integer greater than 1 or a float in (0.0, 1.0]; got the integer 1\n",
      "\n",
      "  FitFailedWarning)\n",
      "C:\\Users\\drnic\\Anaconda3\\lib\\site-packages\\sklearn\\model_selection\\_validation.py:536: FitFailedWarning: Estimator fit failed. The score on this train-test partition for these parameters will be set to nan. Details: \n",
      "ValueError: min_samples_split must be an integer greater than 1 or a float in (0.0, 1.0]; got the integer 1\n",
      "\n",
      "  FitFailedWarning)\n",
      "C:\\Users\\drnic\\Anaconda3\\lib\\site-packages\\sklearn\\model_selection\\_validation.py:536: FitFailedWarning: Estimator fit failed. The score on this train-test partition for these parameters will be set to nan. Details: \n",
      "ValueError: min_samples_split must be an integer greater than 1 or a float in (0.0, 1.0]; got the integer 1\n",
      "\n",
      "  FitFailedWarning)\n",
      "C:\\Users\\drnic\\Anaconda3\\lib\\site-packages\\sklearn\\model_selection\\_validation.py:536: FitFailedWarning: Estimator fit failed. The score on this train-test partition for these parameters will be set to nan. Details: \n",
      "ValueError: min_samples_split must be an integer greater than 1 or a float in (0.0, 1.0]; got the integer 1\n",
      "\n",
      "  FitFailedWarning)\n",
      "C:\\Users\\drnic\\Anaconda3\\lib\\site-packages\\sklearn\\model_selection\\_validation.py:536: FitFailedWarning: Estimator fit failed. The score on this train-test partition for these parameters will be set to nan. Details: \n",
      "ValueError: min_samples_split must be an integer greater than 1 or a float in (0.0, 1.0]; got the integer 1\n",
      "\n",
      "  FitFailedWarning)\n",
      "C:\\Users\\drnic\\Anaconda3\\lib\\site-packages\\sklearn\\model_selection\\_validation.py:536: FitFailedWarning: Estimator fit failed. The score on this train-test partition for these parameters will be set to nan. Details: \n",
      "ValueError: min_samples_split must be an integer greater than 1 or a float in (0.0, 1.0]; got the integer 1\n",
      "\n",
      "  FitFailedWarning)\n",
      "C:\\Users\\drnic\\Anaconda3\\lib\\site-packages\\sklearn\\model_selection\\_validation.py:536: FitFailedWarning: Estimator fit failed. The score on this train-test partition for these parameters will be set to nan. Details: \n",
      "ValueError: min_samples_split must be an integer greater than 1 or a float in (0.0, 1.0]; got the integer 1\n",
      "\n",
      "  FitFailedWarning)\n",
      "C:\\Users\\drnic\\Anaconda3\\lib\\site-packages\\sklearn\\model_selection\\_validation.py:536: FitFailedWarning: Estimator fit failed. The score on this train-test partition for these parameters will be set to nan. Details: \n",
      "ValueError: min_samples_split must be an integer greater than 1 or a float in (0.0, 1.0]; got the integer 1\n",
      "\n",
      "  FitFailedWarning)\n",
      "C:\\Users\\drnic\\Anaconda3\\lib\\site-packages\\sklearn\\model_selection\\_validation.py:536: FitFailedWarning: Estimator fit failed. The score on this train-test partition for these parameters will be set to nan. Details: \n",
      "ValueError: min_samples_split must be an integer greater than 1 or a float in (0.0, 1.0]; got the integer 1\n",
      "\n",
      "  FitFailedWarning)\n",
      "C:\\Users\\drnic\\Anaconda3\\lib\\site-packages\\sklearn\\model_selection\\_validation.py:536: FitFailedWarning: Estimator fit failed. The score on this train-test partition for these parameters will be set to nan. Details: \n",
      "ValueError: min_samples_split must be an integer greater than 1 or a float in (0.0, 1.0]; got the integer 1\n",
      "\n",
      "  FitFailedWarning)\n",
      "C:\\Users\\drnic\\Anaconda3\\lib\\site-packages\\sklearn\\model_selection\\_validation.py:536: FitFailedWarning: Estimator fit failed. The score on this train-test partition for these parameters will be set to nan. Details: \n",
      "ValueError: min_samples_split must be an integer greater than 1 or a float in (0.0, 1.0]; got the integer 1\n",
      "\n",
      "  FitFailedWarning)\n",
      "C:\\Users\\drnic\\Anaconda3\\lib\\site-packages\\sklearn\\model_selection\\_validation.py:536: FitFailedWarning: Estimator fit failed. The score on this train-test partition for these parameters will be set to nan. Details: \n",
      "ValueError: min_samples_split must be an integer greater than 1 or a float in (0.0, 1.0]; got the integer 1\n",
      "\n",
      "  FitFailedWarning)\n",
      "C:\\Users\\drnic\\Anaconda3\\lib\\site-packages\\sklearn\\model_selection\\_validation.py:536: FitFailedWarning: Estimator fit failed. The score on this train-test partition for these parameters will be set to nan. Details: \n",
      "ValueError: min_samples_split must be an integer greater than 1 or a float in (0.0, 1.0]; got the integer 1\n",
      "\n",
      "  FitFailedWarning)\n",
      "C:\\Users\\drnic\\Anaconda3\\lib\\site-packages\\sklearn\\model_selection\\_validation.py:536: FitFailedWarning: Estimator fit failed. The score on this train-test partition for these parameters will be set to nan. Details: \n",
      "ValueError: min_samples_split must be an integer greater than 1 or a float in (0.0, 1.0]; got the integer 1\n",
      "\n",
      "  FitFailedWarning)\n",
      "C:\\Users\\drnic\\Anaconda3\\lib\\site-packages\\sklearn\\model_selection\\_validation.py:536: FitFailedWarning: Estimator fit failed. The score on this train-test partition for these parameters will be set to nan. Details: \n",
      "ValueError: min_samples_split must be an integer greater than 1 or a float in (0.0, 1.0]; got the integer 1\n",
      "\n",
      "  FitFailedWarning)\n",
      "C:\\Users\\drnic\\Anaconda3\\lib\\site-packages\\sklearn\\model_selection\\_validation.py:536: FitFailedWarning: Estimator fit failed. The score on this train-test partition for these parameters will be set to nan. Details: \n",
      "ValueError: min_samples_split must be an integer greater than 1 or a float in (0.0, 1.0]; got the integer 1\n",
      "\n",
      "  FitFailedWarning)\n",
      "C:\\Users\\drnic\\Anaconda3\\lib\\site-packages\\sklearn\\model_selection\\_validation.py:536: FitFailedWarning: Estimator fit failed. The score on this train-test partition for these parameters will be set to nan. Details: \n",
      "ValueError: min_samples_split must be an integer greater than 1 or a float in (0.0, 1.0]; got the integer 1\n",
      "\n",
      "  FitFailedWarning)\n",
      "C:\\Users\\drnic\\Anaconda3\\lib\\site-packages\\sklearn\\model_selection\\_validation.py:536: FitFailedWarning: Estimator fit failed. The score on this train-test partition for these parameters will be set to nan. Details: \n",
      "ValueError: min_samples_split must be an integer greater than 1 or a float in (0.0, 1.0]; got the integer 1\n",
      "\n",
      "  FitFailedWarning)\n",
      "C:\\Users\\drnic\\Anaconda3\\lib\\site-packages\\sklearn\\model_selection\\_validation.py:536: FitFailedWarning: Estimator fit failed. The score on this train-test partition for these parameters will be set to nan. Details: \n",
      "ValueError: min_samples_split must be an integer greater than 1 or a float in (0.0, 1.0]; got the integer 1\n",
      "\n",
      "  FitFailedWarning)\n",
      "C:\\Users\\drnic\\Anaconda3\\lib\\site-packages\\sklearn\\model_selection\\_validation.py:536: FitFailedWarning: Estimator fit failed. The score on this train-test partition for these parameters will be set to nan. Details: \n",
      "ValueError: min_samples_split must be an integer greater than 1 or a float in (0.0, 1.0]; got the integer 1\n",
      "\n",
      "  FitFailedWarning)\n",
      "C:\\Users\\drnic\\Anaconda3\\lib\\site-packages\\sklearn\\model_selection\\_validation.py:536: FitFailedWarning: Estimator fit failed. The score on this train-test partition for these parameters will be set to nan. Details: \n",
      "ValueError: min_samples_split must be an integer greater than 1 or a float in (0.0, 1.0]; got the integer 1\n",
      "\n",
      "  FitFailedWarning)\n",
      "C:\\Users\\drnic\\Anaconda3\\lib\\site-packages\\sklearn\\model_selection\\_validation.py:536: FitFailedWarning: Estimator fit failed. The score on this train-test partition for these parameters will be set to nan. Details: \n",
      "ValueError: min_samples_split must be an integer greater than 1 or a float in (0.0, 1.0]; got the integer 1\n",
      "\n",
      "  FitFailedWarning)\n",
      "C:\\Users\\drnic\\Anaconda3\\lib\\site-packages\\sklearn\\model_selection\\_validation.py:536: FitFailedWarning: Estimator fit failed. The score on this train-test partition for these parameters will be set to nan. Details: \n",
      "ValueError: min_samples_split must be an integer greater than 1 or a float in (0.0, 1.0]; got the integer 1\n",
      "\n",
      "  FitFailedWarning)\n"
     ]
    },
    {
     "name": "stderr",
     "output_type": "stream",
     "text": [
      "C:\\Users\\drnic\\Anaconda3\\lib\\site-packages\\sklearn\\model_selection\\_validation.py:536: FitFailedWarning: Estimator fit failed. The score on this train-test partition for these parameters will be set to nan. Details: \n",
      "ValueError: min_samples_split must be an integer greater than 1 or a float in (0.0, 1.0]; got the integer 1\n",
      "\n",
      "  FitFailedWarning)\n",
      "C:\\Users\\drnic\\Anaconda3\\lib\\site-packages\\sklearn\\model_selection\\_validation.py:536: FitFailedWarning: Estimator fit failed. The score on this train-test partition for these parameters will be set to nan. Details: \n",
      "ValueError: min_samples_split must be an integer greater than 1 or a float in (0.0, 1.0]; got the integer 1\n",
      "\n",
      "  FitFailedWarning)\n",
      "C:\\Users\\drnic\\Anaconda3\\lib\\site-packages\\sklearn\\model_selection\\_validation.py:536: FitFailedWarning: Estimator fit failed. The score on this train-test partition for these parameters will be set to nan. Details: \n",
      "ValueError: min_samples_split must be an integer greater than 1 or a float in (0.0, 1.0]; got the integer 1\n",
      "\n",
      "  FitFailedWarning)\n",
      "C:\\Users\\drnic\\Anaconda3\\lib\\site-packages\\sklearn\\model_selection\\_validation.py:536: FitFailedWarning: Estimator fit failed. The score on this train-test partition for these parameters will be set to nan. Details: \n",
      "ValueError: min_samples_split must be an integer greater than 1 or a float in (0.0, 1.0]; got the integer 1\n",
      "\n",
      "  FitFailedWarning)\n",
      "C:\\Users\\drnic\\Anaconda3\\lib\\site-packages\\sklearn\\model_selection\\_validation.py:536: FitFailedWarning: Estimator fit failed. The score on this train-test partition for these parameters will be set to nan. Details: \n",
      "ValueError: min_samples_split must be an integer greater than 1 or a float in (0.0, 1.0]; got the integer 1\n",
      "\n",
      "  FitFailedWarning)\n",
      "C:\\Users\\drnic\\Anaconda3\\lib\\site-packages\\sklearn\\model_selection\\_validation.py:536: FitFailedWarning: Estimator fit failed. The score on this train-test partition for these parameters will be set to nan. Details: \n",
      "ValueError: min_samples_split must be an integer greater than 1 or a float in (0.0, 1.0]; got the integer 1\n",
      "\n",
      "  FitFailedWarning)\n",
      "C:\\Users\\drnic\\Anaconda3\\lib\\site-packages\\sklearn\\model_selection\\_validation.py:536: FitFailedWarning: Estimator fit failed. The score on this train-test partition for these parameters will be set to nan. Details: \n",
      "ValueError: min_samples_split must be an integer greater than 1 or a float in (0.0, 1.0]; got the integer 1\n",
      "\n",
      "  FitFailedWarning)\n",
      "C:\\Users\\drnic\\Anaconda3\\lib\\site-packages\\sklearn\\model_selection\\_validation.py:536: FitFailedWarning: Estimator fit failed. The score on this train-test partition for these parameters will be set to nan. Details: \n",
      "ValueError: min_samples_split must be an integer greater than 1 or a float in (0.0, 1.0]; got the integer 1\n",
      "\n",
      "  FitFailedWarning)\n",
      "C:\\Users\\drnic\\Anaconda3\\lib\\site-packages\\sklearn\\model_selection\\_validation.py:536: FitFailedWarning: Estimator fit failed. The score on this train-test partition for these parameters will be set to nan. Details: \n",
      "ValueError: min_samples_split must be an integer greater than 1 or a float in (0.0, 1.0]; got the integer 1\n",
      "\n",
      "  FitFailedWarning)\n",
      "C:\\Users\\drnic\\Anaconda3\\lib\\site-packages\\sklearn\\model_selection\\_validation.py:536: FitFailedWarning: Estimator fit failed. The score on this train-test partition for these parameters will be set to nan. Details: \n",
      "ValueError: min_samples_split must be an integer greater than 1 or a float in (0.0, 1.0]; got the integer 1\n",
      "\n",
      "  FitFailedWarning)\n",
      "C:\\Users\\drnic\\Anaconda3\\lib\\site-packages\\sklearn\\model_selection\\_validation.py:536: FitFailedWarning: Estimator fit failed. The score on this train-test partition for these parameters will be set to nan. Details: \n",
      "ValueError: min_samples_split must be an integer greater than 1 or a float in (0.0, 1.0]; got the integer 1\n",
      "\n",
      "  FitFailedWarning)\n",
      "C:\\Users\\drnic\\Anaconda3\\lib\\site-packages\\sklearn\\model_selection\\_validation.py:536: FitFailedWarning: Estimator fit failed. The score on this train-test partition for these parameters will be set to nan. Details: \n",
      "ValueError: min_samples_split must be an integer greater than 1 or a float in (0.0, 1.0]; got the integer 1\n",
      "\n",
      "  FitFailedWarning)\n",
      "C:\\Users\\drnic\\Anaconda3\\lib\\site-packages\\sklearn\\model_selection\\_validation.py:536: FitFailedWarning: Estimator fit failed. The score on this train-test partition for these parameters will be set to nan. Details: \n",
      "ValueError: min_samples_split must be an integer greater than 1 or a float in (0.0, 1.0]; got the integer 1\n",
      "\n",
      "  FitFailedWarning)\n",
      "C:\\Users\\drnic\\Anaconda3\\lib\\site-packages\\sklearn\\model_selection\\_validation.py:536: FitFailedWarning: Estimator fit failed. The score on this train-test partition for these parameters will be set to nan. Details: \n",
      "ValueError: min_samples_split must be an integer greater than 1 or a float in (0.0, 1.0]; got the integer 1\n",
      "\n",
      "  FitFailedWarning)\n",
      "C:\\Users\\drnic\\Anaconda3\\lib\\site-packages\\sklearn\\model_selection\\_validation.py:536: FitFailedWarning: Estimator fit failed. The score on this train-test partition for these parameters will be set to nan. Details: \n",
      "ValueError: min_samples_split must be an integer greater than 1 or a float in (0.0, 1.0]; got the integer 1\n",
      "\n",
      "  FitFailedWarning)\n",
      "C:\\Users\\drnic\\Anaconda3\\lib\\site-packages\\sklearn\\model_selection\\_validation.py:536: FitFailedWarning: Estimator fit failed. The score on this train-test partition for these parameters will be set to nan. Details: \n",
      "ValueError: min_samples_split must be an integer greater than 1 or a float in (0.0, 1.0]; got the integer 1\n",
      "\n",
      "  FitFailedWarning)\n",
      "C:\\Users\\drnic\\Anaconda3\\lib\\site-packages\\sklearn\\model_selection\\_validation.py:536: FitFailedWarning: Estimator fit failed. The score on this train-test partition for these parameters will be set to nan. Details: \n",
      "ValueError: min_samples_split must be an integer greater than 1 or a float in (0.0, 1.0]; got the integer 1\n",
      "\n",
      "  FitFailedWarning)\n",
      "C:\\Users\\drnic\\Anaconda3\\lib\\site-packages\\sklearn\\model_selection\\_validation.py:536: FitFailedWarning: Estimator fit failed. The score on this train-test partition for these parameters will be set to nan. Details: \n",
      "ValueError: min_samples_split must be an integer greater than 1 or a float in (0.0, 1.0]; got the integer 1\n",
      "\n",
      "  FitFailedWarning)\n",
      "C:\\Users\\drnic\\Anaconda3\\lib\\site-packages\\sklearn\\model_selection\\_validation.py:536: FitFailedWarning: Estimator fit failed. The score on this train-test partition for these parameters will be set to nan. Details: \n",
      "ValueError: min_samples_split must be an integer greater than 1 or a float in (0.0, 1.0]; got the integer 1\n",
      "\n",
      "  FitFailedWarning)\n",
      "C:\\Users\\drnic\\Anaconda3\\lib\\site-packages\\sklearn\\model_selection\\_validation.py:536: FitFailedWarning: Estimator fit failed. The score on this train-test partition for these parameters will be set to nan. Details: \n",
      "ValueError: min_samples_split must be an integer greater than 1 or a float in (0.0, 1.0]; got the integer 1\n",
      "\n",
      "  FitFailedWarning)\n",
      "C:\\Users\\drnic\\Anaconda3\\lib\\site-packages\\sklearn\\model_selection\\_validation.py:536: FitFailedWarning: Estimator fit failed. The score on this train-test partition for these parameters will be set to nan. Details: \n",
      "ValueError: min_samples_split must be an integer greater than 1 or a float in (0.0, 1.0]; got the integer 1\n",
      "\n",
      "  FitFailedWarning)\n",
      "C:\\Users\\drnic\\Anaconda3\\lib\\site-packages\\sklearn\\model_selection\\_validation.py:536: FitFailedWarning: Estimator fit failed. The score on this train-test partition for these parameters will be set to nan. Details: \n",
      "ValueError: min_samples_split must be an integer greater than 1 or a float in (0.0, 1.0]; got the integer 1\n",
      "\n",
      "  FitFailedWarning)\n",
      "C:\\Users\\drnic\\Anaconda3\\lib\\site-packages\\sklearn\\model_selection\\_validation.py:536: FitFailedWarning: Estimator fit failed. The score on this train-test partition for these parameters will be set to nan. Details: \n",
      "ValueError: min_samples_split must be an integer greater than 1 or a float in (0.0, 1.0]; got the integer 1\n",
      "\n",
      "  FitFailedWarning)\n",
      "C:\\Users\\drnic\\Anaconda3\\lib\\site-packages\\sklearn\\model_selection\\_validation.py:536: FitFailedWarning: Estimator fit failed. The score on this train-test partition for these parameters will be set to nan. Details: \n",
      "ValueError: min_samples_split must be an integer greater than 1 or a float in (0.0, 1.0]; got the integer 1\n",
      "\n",
      "  FitFailedWarning)\n",
      "C:\\Users\\drnic\\Anaconda3\\lib\\site-packages\\sklearn\\model_selection\\_validation.py:536: FitFailedWarning: Estimator fit failed. The score on this train-test partition for these parameters will be set to nan. Details: \n",
      "ValueError: min_samples_split must be an integer greater than 1 or a float in (0.0, 1.0]; got the integer 1\n",
      "\n",
      "  FitFailedWarning)\n"
     ]
    },
    {
     "data": {
      "text/plain": [
       "RandomizedSearchCV(cv=5, error_score=nan,\n",
       "                   estimator=DecisionTreeClassifier(ccp_alpha=0.0,\n",
       "                                                    class_weight=None,\n",
       "                                                    criterion='gini',\n",
       "                                                    max_depth=None,\n",
       "                                                    max_features=None,\n",
       "                                                    max_leaf_nodes=None,\n",
       "                                                    min_impurity_decrease=0.0,\n",
       "                                                    min_impurity_split=None,\n",
       "                                                    min_samples_leaf=1,\n",
       "                                                    min_samples_split=2,\n",
       "                                                    min_weight_fraction_leaf=0.0,\n",
       "                                                    presort='deprecated',\n",
       "                                                    random_state=0,\n",
       "                                                    splitter='best'),\n",
       "                   iid='deprecated', n_iter=100, n_jobs=None,\n",
       "                   param_distributions={'criterion': ['gini', 'entropy'],\n",
       "                                        'max_depth': [1, 2, 3, 4, 5, 6, None],\n",
       "                                        'min_samples_leaf': [1, 2, 3, 5, 10,\n",
       "                                                             20],\n",
       "                                        'min_samples_split': [1, 2, 3, 5, 10,\n",
       "                                                              20]},\n",
       "                   pre_dispatch='2*n_jobs', random_state=None, refit=True,\n",
       "                   return_train_score=False, scoring=None, verbose=0)"
      ]
     },
     "execution_count": 60,
     "metadata": {},
     "output_type": "execute_result"
    }
   ],
   "source": [
    "p = {\n",
    "    'max_depth': [1, 2, 3, 4, 5, 6, None],\n",
    "    'min_samples_leaf': [1, 2, 3, 5, 10, 20],\n",
    "    'min_samples_split': [1, 2, 3, 5, 10, 20],\n",
    "    'criterion': ['gini', 'entropy'],\n",
    "}\n",
    "\n",
    "rs = RandomizedSearchCV(clf, param_distributions=p, n_iter=100, cv=5)\n",
    "\n",
    "rs.fit(X_train, y_train)"
   ]
  },
  {
   "cell_type": "code",
   "execution_count": 61,
   "metadata": {},
   "outputs": [],
   "source": [
    "best_clf = rs.best_estimator_"
   ]
  },
  {
   "cell_type": "code",
   "execution_count": 62,
   "metadata": {},
   "outputs": [],
   "source": [
    "y_pred = best_clf.predict(X_test)"
   ]
  },
  {
   "cell_type": "code",
   "execution_count": 63,
   "metadata": {},
   "outputs": [
    {
     "data": {
      "text/plain": [
       "0.7689339122045344"
      ]
     },
     "execution_count": 63,
     "metadata": {},
     "output_type": "execute_result"
    }
   ],
   "source": [
    "accuracy_score(y_pred, y_test)\n"
   ]
  },
  {
   "cell_type": "code",
   "execution_count": 64,
   "metadata": {},
   "outputs": [
    {
     "data": {
      "text/plain": [
       "{'min_samples_split': 20,\n",
       " 'min_samples_leaf': 20,\n",
       " 'max_depth': 6,\n",
       " 'criterion': 'gini'}"
      ]
     },
     "execution_count": 64,
     "metadata": {},
     "output_type": "execute_result"
    }
   ],
   "source": [
    "rs.best_params_"
   ]
  },
  {
   "cell_type": "code",
   "execution_count": 65,
   "metadata": {},
   "outputs": [
    {
     "data": {
      "text/plain": [
       "0.760910031023785"
      ]
     },
     "execution_count": 65,
     "metadata": {},
     "output_type": "execute_result"
    }
   ],
   "source": [
    "rs.best_score_"
   ]
  },
  {
   "cell_type": "markdown",
   "metadata": {},
   "source": [
    "### Rialleno il Classificatore con i bst parameters ottenuti con la Randomized Search"
   ]
  },
  {
   "cell_type": "code",
   "execution_count": 66,
   "metadata": {},
   "outputs": [
    {
     "data": {
      "text/plain": [
       "DecisionTreeClassifier(ccp_alpha=0.0, class_weight=None, criterion='entropy',\n",
       "                       max_depth=6, max_features=None, max_leaf_nodes=None,\n",
       "                       min_impurity_decrease=0.0, min_impurity_split=None,\n",
       "                       min_samples_leaf=20, min_samples_split=5,\n",
       "                       min_weight_fraction_leaf=0.0, presort='deprecated',\n",
       "                       random_state=None, splitter='best')"
      ]
     },
     "execution_count": 66,
     "metadata": {},
     "output_type": "execute_result"
    }
   ],
   "source": [
    "clf = DecisionTreeClassifier(criterion='entropy', max_depth=6, min_samples_leaf=20, min_samples_split=5)\n",
    "clf.fit(X_train, y_train)"
   ]
  },
  {
   "cell_type": "code",
   "execution_count": 67,
   "metadata": {},
   "outputs": [
    {
     "data": {
      "image/png": "[encoded data removed]",
      "text/plain": [
       "<Figure size 432x288 with 1 Axes>"
      ]
     },
     "metadata": {
      "needs_background": "light"
     },
     "output_type": "display_data"
    }
   ],
   "source": [
    "plot_tree(clf)\n",
    "plt.show()"
   ]
  },
  {
   "cell_type": "code",
   "execution_count": 68,
   "metadata": {},
   "outputs": [
    {
     "data": {
      "text/plain": [
       "0.7689339122045344"
      ]
     },
     "execution_count": 68,
     "metadata": {},
     "output_type": "execute_result"
    }
   ],
   "source": [
    "accuracy_score(y_test, y_pred)"
   ]
  },
  {
   "cell_type": "code",
   "execution_count": 69,
   "metadata": {},
   "outputs": [
    {
     "data": {
      "text/plain": [
       "array([0.75271038, 0.7831598 ])"
      ]
     },
     "execution_count": 69,
     "metadata": {},
     "output_type": "execute_result"
    }
   ],
   "source": [
    "f1_score(y_test, y_pred, average=None)"
   ]
  },
  {
   "cell_type": "code",
   "execution_count": 70,
   "metadata": {},
   "outputs": [
    {
     "name": "stdout",
     "output_type": "stream",
     "text": [
      "              precision    recall  f1-score   support\n",
      "\n",
      "           0       0.81      0.70      0.75      1037\n",
      "           1       0.74      0.83      0.78      1036\n",
      "\n",
      "    accuracy                           0.77      2073\n",
      "   macro avg       0.77      0.77      0.77      2073\n",
      "weighted avg       0.77      0.77      0.77      2073\n",
      "\n"
     ]
    }
   ],
   "source": [
    "print(classification_report(y_test, y_pred))"
   ]
  },
  {
   "cell_type": "code",
   "execution_count": 71,
   "metadata": {},
   "outputs": [
    {
     "name": "stdout",
     "output_type": "stream",
     "text": [
      "Confusion Matrix\n",
      "[[729 308]\n",
      " [171 865]]\n",
      "\n",
      "Classification Report\n",
      "              precision    recall  f1-score   support\n",
      "\n",
      "           0       0.81      0.70      0.75      1037\n",
      "           1       0.74      0.83      0.78      1036\n",
      "\n",
      "    accuracy                           0.77      2073\n",
      "   macro avg       0.77      0.77      0.77      2073\n",
      "weighted avg       0.77      0.77      0.77      2073\n",
      "\n"
     ]
    }
   ],
   "source": [
    "from sklearn.metrics import confusion_matrix, classification_report\n",
    "# compute confusion matrix\n",
    "print (\"Confusion Matrix\")\n",
    "print ( confusion_matrix(y_test, y_pred) )\n",
    "print ()\n",
    "\n",
    "# compute classification report\n",
    "print (\"Classification Report\")\n",
    "print ( classification_report(y_test, y_pred) )"
   ]
  },
  {
   "cell_type": "markdown",
   "metadata": {},
   "source": [
    "### - Grid Search"
   ]
  },
  {
   "cell_type": "code",
   "execution_count": null,
   "metadata": {},
   "outputs": [],
   "source": []
  },
  {
   "cell_type": "markdown",
   "metadata": {},
   "source": [
    "### Passiamo ai modelli a votazione, ensemble methods quali Random Forest Classifier e Gradient Boosting Classifier"
   ]
  },
  {
   "cell_type": "markdown",
   "metadata": {},
   "source": [
    "## Random Forest Classifier"
   ]
  },
  {
   "cell_type": "code",
   "execution_count": 72,
   "metadata": {},
   "outputs": [],
   "source": [
    "from sklearn.ensemble import RandomForestClassifier\n",
    "from sklearn.model_selection import RandomizedSearchCV"
   ]
  },
  {
   "cell_type": "code",
   "execution_count": 73,
   "metadata": {},
   "outputs": [],
   "source": [
    "clf = RandomForestClassifier()\n",
    "\n",
    "param = {\n",
    "    'max_depth': [None, 2, 4, 6, 8, 16, 32],\n",
    "    'min_samples_leaf': [1, 5, 10, 20, 50, 100],\n",
    "    'min_samples_split': [2, 5, 10, 20, 50, 100],\n",
    "    'class_weight': [None, 'balanced', {0: 0.1, 1: 0.9}, {0: 0.3, 1: 0.7}],\n",
    "    'criterion': ['gini', 'entropy'],\n",
    "}"
   ]
  },
  {
   "cell_type": "code",
   "execution_count": 74,
   "metadata": {},
   "outputs": [
    {
     "data": {
      "text/plain": [
       "RandomizedSearchCV(cv=5, error_score=nan,\n",
       "                   estimator=RandomForestClassifier(bootstrap=True,\n",
       "                                                    ccp_alpha=0.0,\n",
       "                                                    class_weight=None,\n",
       "                                                    criterion='gini',\n",
       "                                                    max_depth=None,\n",
       "                                                    max_features='auto',\n",
       "                                                    max_leaf_nodes=None,\n",
       "                                                    max_samples=None,\n",
       "                                                    min_impurity_decrease=0.0,\n",
       "                                                    min_impurity_split=None,\n",
       "                                                    min_samples_leaf=1,\n",
       "                                                    min_samples_split=2,\n",
       "                                                    min_weight_fraction_leaf=0.0,\n",
       "                                                    n_estimators=100,\n",
       "                                                    n_jobs...\n",
       "                   iid='deprecated', n_iter=100, n_jobs=None,\n",
       "                   param_distributions={'class_weight': [None, 'balanced',\n",
       "                                                         {0: 0.1, 1: 0.9},\n",
       "                                                         {0: 0.3, 1: 0.7}],\n",
       "                                        'criterion': ['gini', 'entropy'],\n",
       "                                        'max_depth': [None, 2, 4, 6, 8, 16, 32],\n",
       "                                        'min_samples_leaf': [1, 5, 10, 20, 50,\n",
       "                                                             100],\n",
       "                                        'min_samples_split': [2, 5, 10, 20, 50,\n",
       "                                                              100]},\n",
       "                   pre_dispatch='2*n_jobs', random_state=None, refit=True,\n",
       "                   return_train_score=False, scoring='accuracy', verbose=0)"
      ]
     },
     "execution_count": 74,
     "metadata": {},
     "output_type": "execute_result"
    }
   ],
   "source": [
    "rs = RandomizedSearchCV(clf, param_distributions=param, n_iter=100, cv=5, scoring='accuracy')\n",
    "rs.fit(X_train, y_train)"
   ]
  },
  {
   "cell_type": "code",
   "execution_count": 75,
   "metadata": {},
   "outputs": [],
   "source": [
    "best_clf = rs.best_estimator_"
   ]
  },
  {
   "cell_type": "code",
   "execution_count": 76,
   "metadata": {},
   "outputs": [],
   "source": [
    "y_pred = best_clf.predict(X_test)"
   ]
  },
  {
   "cell_type": "code",
   "execution_count": 77,
   "metadata": {},
   "outputs": [
    {
     "data": {
      "text/plain": [
       "0.8031837916063675"
      ]
     },
     "execution_count": 77,
     "metadata": {},
     "output_type": "execute_result"
    }
   ],
   "source": [
    "accuracy_score(y_pred, y_test)"
   ]
  },
  {
   "cell_type": "code",
   "execution_count": 78,
   "metadata": {},
   "outputs": [
    {
     "data": {
      "text/plain": [
       "{'min_samples_split': 10,\n",
       " 'min_samples_leaf': 5,\n",
       " 'max_depth': 16,\n",
       " 'criterion': 'entropy',\n",
       " 'class_weight': 'balanced'}"
      ]
     },
     "execution_count": 78,
     "metadata": {},
     "output_type": "execute_result"
    }
   ],
   "source": [
    "rs.best_params_"
   ]
  },
  {
   "cell_type": "code",
   "execution_count": 79,
   "metadata": {},
   "outputs": [
    {
     "data": {
      "text/plain": [
       "0.7966907962771458"
      ]
     },
     "execution_count": 79,
     "metadata": {},
     "output_type": "execute_result"
    }
   ],
   "source": [
    "rs.best_score_"
   ]
  },
  {
   "cell_type": "code",
   "execution_count": null,
   "metadata": {},
   "outputs": [],
   "source": []
  },
  {
   "cell_type": "code",
   "execution_count": null,
   "metadata": {},
   "outputs": [],
   "source": []
  },
  {
   "cell_type": "code",
   "execution_count": null,
   "metadata": {},
   "outputs": [],
   "source": []
  },
  {
   "cell_type": "code",
   "execution_count": 80,
   "metadata": {},
   "outputs": [
    {
     "data": {
      "text/plain": [
       "RandomForestClassifier(bootstrap=True, ccp_alpha=0.0, class_weight=None,\n",
       "                       criterion='gini', max_depth=None, max_features='auto',\n",
       "                       max_leaf_nodes=None, max_samples=None,\n",
       "                       min_impurity_decrease=0.0, min_impurity_split=None,\n",
       "                       min_samples_leaf=1, min_samples_split=2,\n",
       "                       min_weight_fraction_leaf=0.0, n_estimators=100,\n",
       "                       n_jobs=None, oob_score=False, random_state=None,\n",
       "                       verbose=0, warm_start=False)"
      ]
     },
     "execution_count": 80,
     "metadata": {},
     "output_type": "execute_result"
    }
   ],
   "source": [
    "clf = RandomForestClassifier(n_estimators=100, criterion='gini', max_depth=None, \n",
    "                             min_samples_split=2, min_samples_leaf=1 )\n",
    "\n",
    "clf.fit(X_train,y_train)"
   ]
  },
  {
   "cell_type": "code",
   "execution_count": 81,
   "metadata": {},
   "outputs": [],
   "source": [
    "y_test = clf.predict(X_test)"
   ]
  },
  {
   "cell_type": "code",
   "execution_count": 82,
   "metadata": {},
   "outputs": [
    {
     "ename": "NameError",
     "evalue": "name 'X' is not defined",
     "output_type": "error",
     "traceback": [
      "\u001b[1;31m---------------------------------------------------------------------------\u001b[0m",
      "\u001b[1;31mNameError\u001b[0m                                 Traceback (most recent call last)",
      "\u001b[1;32m<ipython-input-82-e3a0432cb41d>\u001b[0m in \u001b[0;36m<module>\u001b[1;34m\u001b[0m\n\u001b[1;32m----> 1\u001b[1;33m \u001b[0mscores\u001b[0m \u001b[1;33m=\u001b[0m \u001b[0mcross_val_score\u001b[0m\u001b[1;33m(\u001b[0m\u001b[0mclf\u001b[0m\u001b[1;33m,\u001b[0m \u001b[0mX\u001b[0m\u001b[1;33m,\u001b[0m \u001b[0my\u001b[0m\u001b[1;33m,\u001b[0m \u001b[0mcv\u001b[0m\u001b[1;33m=\u001b[0m\u001b[1;36m10\u001b[0m\u001b[1;33m)\u001b[0m\u001b[1;33m\u001b[0m\u001b[1;33m\u001b[0m\u001b[0m\n\u001b[0m\u001b[0;32m      2\u001b[0m \u001b[0mprint\u001b[0m\u001b[1;33m(\u001b[0m\u001b[1;34m'Accuracy: %0.4f (+/- %0.2f)'\u001b[0m \u001b[1;33m%\u001b[0m \u001b[1;33m(\u001b[0m\u001b[0mscores\u001b[0m\u001b[1;33m.\u001b[0m\u001b[0mmean\u001b[0m\u001b[1;33m(\u001b[0m\u001b[1;33m)\u001b[0m\u001b[1;33m,\u001b[0m \u001b[0mscores\u001b[0m\u001b[1;33m.\u001b[0m\u001b[0mstd\u001b[0m\u001b[1;33m(\u001b[0m\u001b[1;33m)\u001b[0m \u001b[1;33m*\u001b[0m \u001b[1;36m2\u001b[0m\u001b[1;33m)\u001b[0m\u001b[1;33m)\u001b[0m\u001b[1;33m\u001b[0m\u001b[1;33m\u001b[0m\u001b[0m\n\u001b[0;32m      3\u001b[0m \u001b[1;33m\u001b[0m\u001b[0m\n\u001b[0;32m      4\u001b[0m \u001b[0mscores\u001b[0m \u001b[1;33m=\u001b[0m \u001b[0mcross_val_score\u001b[0m\u001b[1;33m(\u001b[0m\u001b[0mclf\u001b[0m\u001b[1;33m,\u001b[0m \u001b[0mX\u001b[0m\u001b[1;33m,\u001b[0m \u001b[0my\u001b[0m\u001b[1;33m,\u001b[0m \u001b[0mcv\u001b[0m\u001b[1;33m=\u001b[0m\u001b[1;36m10\u001b[0m\u001b[1;33m,\u001b[0m \u001b[0mscoring\u001b[0m\u001b[1;33m=\u001b[0m\u001b[1;34m'f1_macro'\u001b[0m\u001b[1;33m)\u001b[0m\u001b[1;33m\u001b[0m\u001b[1;33m\u001b[0m\u001b[0m\n\u001b[0;32m      5\u001b[0m \u001b[0mprint\u001b[0m\u001b[1;33m(\u001b[0m\u001b[1;34m'F1-score: %0.4f (+/- %0.2f)'\u001b[0m \u001b[1;33m%\u001b[0m \u001b[1;33m(\u001b[0m\u001b[0mscores\u001b[0m\u001b[1;33m.\u001b[0m\u001b[0mmean\u001b[0m\u001b[1;33m(\u001b[0m\u001b[1;33m)\u001b[0m\u001b[1;33m,\u001b[0m \u001b[0mscores\u001b[0m\u001b[1;33m.\u001b[0m\u001b[0mstd\u001b[0m\u001b[1;33m(\u001b[0m\u001b[1;33m)\u001b[0m \u001b[1;33m*\u001b[0m \u001b[1;36m2\u001b[0m\u001b[1;33m)\u001b[0m\u001b[1;33m)\u001b[0m\u001b[1;33m\u001b[0m\u001b[1;33m\u001b[0m\u001b[0m\n",
      "\u001b[1;31mNameError\u001b[0m: name 'X' is not defined"
     ]
    }
   ],
   "source": [
    "scores = cross_val_score(clf, X, y, cv=10)\n",
    "print('Accuracy: %0.4f (+/- %0.2f)' % (scores.mean(), scores.std() * 2))\n",
    "\n",
    "scores = cross_val_score(clf, X, y, cv=10, scoring='f1_macro')\n",
    "print('F1-score: %0.4f (+/- %0.2f)' % (scores.mean(), scores.std() * 2))"
   ]
  },
  {
   "cell_type": "code",
   "execution_count": null,
   "metadata": {},
   "outputs": [],
   "source": [
    "p = {\n",
    "    'max_depth': [1, 2, 3, 4, 5, 6, None],\n",
    "    'min_samples_leaf': [1, 2, 3, 5, 10, 20],\n",
    "    'min_samples_split': [1, 2, 3, 5, 10, 20],\n",
    "    'criterion': ['gini', 'entropy'],\n",
    "}\n",
    "\n",
    "rs = RandomizedSearchCV(clf, param_distributions=p, n_iter=100, cv=5)\n",
    "\n",
    "rs.fit(X_train, y_train)"
   ]
  },
  {
   "cell_type": "code",
   "execution_count": null,
   "metadata": {},
   "outputs": [],
   "source": [
    "best_clf = rs.best_estimator_"
   ]
  },
  {
   "cell_type": "code",
   "execution_count": null,
   "metadata": {},
   "outputs": [],
   "source": [
    "y_pred = best_clf.predict(X_test)"
   ]
  },
  {
   "cell_type": "code",
   "execution_count": null,
   "metadata": {},
   "outputs": [],
   "source": [
    "accuracy_score(y_pred, y_test)"
   ]
  },
  {
   "cell_type": "code",
   "execution_count": null,
   "metadata": {},
   "outputs": [],
   "source": [
    "rs.best_params_"
   ]
  },
  {
   "cell_type": "code",
   "execution_count": null,
   "metadata": {},
   "outputs": [],
   "source": [
    "rs.best_score_"
   ]
  },
  {
   "cell_type": "markdown",
   "metadata": {},
   "source": [
    "### Rialleno il random forest con i best parameters ottenuti con la Randomied Search CV"
   ]
  },
  {
   "cell_type": "code",
   "execution_count": null,
   "metadata": {},
   "outputs": [],
   "source": [
    "clf = RandomForestClassifier(criterion='entropy', max_depth=None, \n",
    "                             min_samples_split=10, min_samples_leaf=2)\n",
    "\n",
    "clf.fit(X_train,y_train)"
   ]
  },
  {
   "cell_type": "code",
   "execution_count": null,
   "metadata": {},
   "outputs": [],
   "source": [
    "y_test = clf.predict(X_test)"
   ]
  },
  {
   "cell_type": "code",
   "execution_count": null,
   "metadata": {},
   "outputs": [],
   "source": [
    "scores = cross_val_score(clf, X_test, y_test, cv=10)\n",
    "print('Accuracy: %0.4f (+/- %0.2f)' % (scores.mean(), scores.std() * 2))\n",
    "\n",
    "scores = cross_val_score(clf, X_test, y_test, cv=10, scoring='f1_macro')\n",
    "print('F1-score: %0.4f (+/- %0.2f)' % (scores.mean(), scores.std() * 2))"
   ]
  },
  {
   "cell_type": "code",
   "execution_count": null,
   "metadata": {},
   "outputs": [],
   "source": []
  },
  {
   "cell_type": "code",
   "execution_count": null,
   "metadata": {},
   "outputs": [],
   "source": []
  },
  {
   "cell_type": "code",
   "execution_count": null,
   "metadata": {},
   "outputs": [],
   "source": []
  },
  {
   "cell_type": "markdown",
   "metadata": {},
   "source": [
    "## Secondo modalità per creare il random forest "
   ]
  },
  {
   "cell_type": "code",
   "execution_count": null,
   "metadata": {},
   "outputs": [],
   "source": [
    "clf = RandomForestClassifier(n_estimators=100, \n",
    "                             criterion='gini', \n",
    "                             max_depth=None, \n",
    "                             min_samples_split=2, \n",
    "                             min_samples_leaf=1, \n",
    "                             class_weight=None)\n",
    "\n",
    "scores = cross_val_score(clf, X, y, cv=10)\n",
    "print('Accuracy: %0.4f (+/- %0.2f)' % (scores.mean(), scores.std() * 2))\n",
    "\n",
    "scores = cross_val_score(clf, X, y, cv=10, scoring='f1_macro')\n",
    "print('F1-score: %0.4f (+/- %0.2f)' % (scores.mean(), scores.std() * 2))"
   ]
  },
  {
   "cell_type": "code",
   "execution_count": null,
   "metadata": {},
   "outputs": [],
   "source": [
    "clf.fit(X_train, y_train)"
   ]
  },
  {
   "cell_type": "code",
   "execution_count": null,
   "metadata": {},
   "outputs": [],
   "source": [
    "clf.predict(X_test)"
   ]
  },
  {
   "cell_type": "markdown",
   "metadata": {},
   "source": [
    "### Il random forest performa meglio! "
   ]
  }
 ],
 "metadata": {
  "kernelspec": {
   "display_name": "Python 3",
   "language": "python",
   "name": "python3"
  },
  "language_info": {
   "codemirror_mode": {
    "name": "ipython",
    "version": 3
   },
   "file_extension": ".py",
   "mimetype": "text/x-python",
   "name": "python",
   "nbconvert_exporter": "python",
   "pygments_lexer": "ipython3",
   "version": "3.7.4"
  }
 },
 "nbformat": 4,
 "nbformat_minor": 2
}
